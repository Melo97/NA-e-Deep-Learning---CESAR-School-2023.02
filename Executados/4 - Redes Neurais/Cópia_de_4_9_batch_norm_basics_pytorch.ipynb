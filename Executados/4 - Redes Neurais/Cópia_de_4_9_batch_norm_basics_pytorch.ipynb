{
  "nbformat": 4,
  "nbformat_minor": 0,
  "metadata": {
    "colab": {
      "provenance": []
    },
    "kernelspec": {
      "name": "python3",
      "display_name": "Python 3"
    },
    "accelerator": "GPU"
  },
  "cells": [
    {
      "metadata": {
        "id": "6SatNw_mBR3w"
      },
      "cell_type": "markdown",
      "source": [
        "# Batch Normalization"
      ]
    },
    {
      "metadata": {
        "id": "0HEpKvkJBR3y"
      },
      "cell_type": "markdown",
      "source": [
        "## Introdução"
      ]
    },
    {
      "metadata": {
        "id": "EVdrklKJBR3y"
      },
      "cell_type": "markdown",
      "source": [
        "Batch Normalization é uma técnica que permite normalizar automaticamente os valores que atravessam uma camada da rede neural. Normalmente o uso do BatchNorm permite um treinamento mais rápido e com menores cuidados na inicialização dos pesos. Permite que redes profundas sejam treinadas mais facilmente. \n",
        "\n",
        "A normalização é feita para que o resultado tenha média zero e variância unitária, porém, em seguida, o resultado é\n",
        "escalado pelo fator $\\gamma$ e somado ao fator $\\beta$. Estes dois fatores são parâmetros que serão também otimizados durante o treinamento do gradiente descendente.\n",
        "\n",
        "Atualmente a técnica de batch normalization é utilizada em todas as redes profundas. \n",
        "\n",
        "A camada de batch normalization é colocada entre a camada densa ou convolucional e antes da camada de ativação."
      ]
    },
    {
      "metadata": {
        "id": "KrmVBFNPBR30"
      },
      "cell_type": "markdown",
      "source": [
        "**Referência:**\n",
        "- Ioffe, S. and Szegedy, C. (2015), Batch Normalization: Accelerating Deep Network Training by Reducing Internal Covariate Shift., in Francis R. Bach & David M. Blei, ed., 'ICML' , JMLR.org, , pp. 448-456. \n",
        "    [PDF:arxiv](http://arxiv.org/pdf/1502.03167.pdf) "
      ]
    },
    {
      "metadata": {
        "id": "dqmNf5PbBR30"
      },
      "cell_type": "markdown",
      "source": [
        "![alt text](https://raw.githubusercontent.com/vcasadei/images/master/batchnorm_neuronios.png)"
      ]
    },
    {
      "metadata": {
        "id": "PJikJ4w-BR33"
      },
      "cell_type": "markdown",
      "source": [
        "![alt text](https://raw.githubusercontent.com/vcasadei/images/master/batchnorm_equations.png)"
      ]
    },
    {
      "metadata": {
        "id": "_yQH3l2ABR34"
      },
      "cell_type": "markdown",
      "source": [
        "## Diferença entre fase de treinamento e fase de predição ou avaliação"
      ]
    },
    {
      "metadata": {
        "id": "yhtepCLHBR35"
      },
      "cell_type": "markdown",
      "source": [
        "A normalização ocorre de forma distinta na fase de treinamento e na fase de avaliação:\n",
        "- em treinamento: a média e variância ($\\mu$ e $\\sigma^2$) são estimados a partir dos valores\n",
        "das amostras no mini-batch:\n",
        "    - `running_mean`\n",
        "    - `running_var`\n",
        "- em avaliação: a média e variância é calculada pela média móvel, definida pelo parâmetro momentum ($\\lambda$):"
      ]
    },
    {
      "metadata": {
        "id": "xkUbDHUxBR35"
      },
      "cell_type": "markdown",
      "source": [
        "\\begin{align*} \n",
        "\\boldsymbol{m}_{t} &=  \\lambda \\boldsymbol{\\mu_t} + (1 - \\lambda) \\boldsymbol{m}_{t-1} &&\n",
        "\\boldsymbol{v}_{t} =   \\lambda \\boldsymbol{\\sigma^{2}_t} + (1 - \\lambda) \\boldsymbol{v}_{t-1} \n",
        "\\end{align*}"
      ]
    },
    {
      "metadata": {
        "id": "OT4BmHUyBR37"
      },
      "cell_type": "markdown",
      "source": [
        "## Importações"
      ]
    },
    {
      "metadata": {
        "ExecuteTime": {
          "end_time": "2017-10-03T14:27:18.839311",
          "start_time": "2017-10-03T14:27:18.595038"
        },
        "id": "l5FBhN-vBR37"
      },
      "cell_type": "code",
      "source": [
        "%matplotlib inline\n",
        "import matplotlib.pyplot as plot\n",
        "from IPython import display\n",
        "\n",
        "import sys, copy\n",
        "import numpy as np\n",
        "import numpy.random as nr\n",
        "import pandas as pd\n",
        "\n",
        "import torch\n",
        "from torch.autograd import Variable\n",
        "\n",
        "np.set_printoptions(precision=2, suppress=True)\n",
        "nr.seed(23456)\n"
      ],
      "execution_count": 1,
      "outputs": []
    },
    {
      "metadata": {
        "id": "--qqRgVFBR3-"
      },
      "cell_type": "markdown",
      "source": [
        "## nn.BatchNorm1d - Entrada com dimensão 2"
      ]
    },
    {
      "metadata": {
        "id": "4rVn0WMIBR3_"
      },
      "cell_type": "markdown",
      "source": [
        "- Documentação oficial: http://pytorch.org/docs/master/nn.html#normalization-layers\n",
        "\n",
        "Quando a entrada da camada tem duas dimensões (amostras e atributos) a normalização por atributo. Ou seja, calcula-se a estatística (média e variância) para cada coluna da matriz de dados, em cada *mini-batch*."
      ]
    },
    {
      "metadata": {
        "id": "Nfg0s9YBBR4A"
      },
      "cell_type": "markdown",
      "source": [
        "## Criação rede com apenas uma camada BatchNorm"
      ]
    },
    {
      "metadata": {
        "id": "EZtfgp0eBR4B"
      },
      "cell_type": "code",
      "source": [
        "torch.manual_seed(1234)\n",
        "\n",
        "momentum = 0.1\n",
        "model = torch.nn.BatchNorm1d(5, momentum=momentum)        # Rede formada de apenas uma camada BatchNorm"
      ],
      "execution_count": 2,
      "outputs": []
    },
    {
      "metadata": {
        "id": "mTbykTyLBR4G"
      },
      "cell_type": "markdown",
      "source": [
        "## Parâmetros iniciais, mv_mean = 0. e mv_var = 1."
      ]
    },
    {
      "metadata": {
        "id": "cnsfdJqqB0M9",
        "outputId": "40323f92-f5fe-4280-a569-3824ca566fe0",
        "colab": {
          "base_uri": "https://localhost:8080/"
        }
      },
      "cell_type": "code",
      "source": [
        "print(copy.deepcopy(model.state_dict()).values())"
      ],
      "execution_count": 3,
      "outputs": [
        {
          "output_type": "stream",
          "name": "stdout",
          "text": [
            "odict_values([tensor([1., 1., 1., 1., 1.]), tensor([0., 0., 0., 0., 0.]), tensor([0., 0., 0., 0., 0.]), tensor([1., 1., 1., 1., 1.]), tensor(0)])\n"
          ]
        }
      ]
    },
    {
      "metadata": {
        "id": "WkqebevUBR4H",
        "outputId": "82dcbc37-16a3-45df-b820-fb55bd02e3ad",
        "colab": {
          "base_uri": "https://localhost:8080/"
        }
      },
      "cell_type": "code",
      "source": [
        "print('Training:', model.training)\n",
        "gamma, beta, mv_mean, mv_var, _ = copy.deepcopy(model.state_dict()).values()\n",
        "param_dict = model.state_dict()\n",
        "for name,value in param_dict.items():\n",
        "    print(name)\n",
        "    print(value.numpy())"
      ],
      "execution_count": 4,
      "outputs": [
        {
          "output_type": "stream",
          "name": "stdout",
          "text": [
            "Training: True\n",
            "weight\n",
            "[1. 1. 1. 1. 1.]\n",
            "bias\n",
            "[0. 0. 0. 0. 0.]\n",
            "running_mean\n",
            "[0. 0. 0. 0. 0.]\n",
            "running_var\n",
            "[1. 1. 1. 1. 1.]\n",
            "num_batches_tracked\n",
            "0\n"
          ]
        }
      ]
    },
    {
      "metadata": {
        "id": "k82_e885BR4L"
      },
      "cell_type": "markdown",
      "source": [
        "## Entrada x (não normalizada)"
      ]
    },
    {
      "metadata": {
        "id": "kCrYmoqfBR4N",
        "outputId": "431632b5-9e0b-4098-b1ec-8b5f6ec1e70b",
        "colab": {
          "base_uri": "https://localhost:8080/"
        }
      },
      "cell_type": "code",
      "source": [
        "x = Variable(torch.randn(4, 5)) * 100. # Entrada x\n",
        "print('x:\\n',x)"
      ],
      "execution_count": 5,
      "outputs": [
        {
          "output_type": "stream",
          "name": "stdout",
          "text": [
            "x:\n",
            " tensor([[ -11.1719,  -49.6590,   16.3074,  -88.1688,   28.9097],\n",
            "        [  48.9871,  -38.5275,  -71.2035,   63.6913,  -71.4080],\n",
            "        [-108.3124,  -55.4724, -132.4812,   69.6981,  -66.3054],\n",
            "        [ 121.5757, -252.7335,  147.7784,  -16.9624,  -99.1857]])\n"
          ]
        }
      ]
    },
    {
      "metadata": {
        "id": "Ll84iJp7BR4R"
      },
      "cell_type": "markdown",
      "source": [
        "## Forward em treinamento: faz predict usando média e var do mini-batch e atualiza mv_mean e mv_var"
      ]
    },
    {
      "metadata": {
        "id": "tn8X0JkQBR4R",
        "outputId": "ce5c63fe-f911-4d6c-c7a3-14359302a4fc",
        "colab": {
          "base_uri": "https://localhost:8080/"
        }
      },
      "cell_type": "code",
      "source": [
        "print('Training:', model.training)\n",
        "y = model(x)                           # Forward"
      ],
      "execution_count": 8,
      "outputs": [
        {
          "output_type": "stream",
          "name": "stdout",
          "text": [
            "Training: True\n"
          ]
        }
      ]
    },
    {
      "metadata": {
        "id": "q2h0nv9cBR4U"
      },
      "cell_type": "markdown",
      "source": [
        "## Parâmetros: running_mean e running_var estimados com momentum 10% atual e 90% do anterior"
      ]
    },
    {
      "metadata": {
        "id": "YuIe8e5aBR4V",
        "outputId": "8e0465ef-bd2d-43af-e254-776d3d7ee3e3",
        "colab": {
          "base_uri": "https://localhost:8080/"
        }
      },
      "cell_type": "code",
      "source": [
        "print('Training:', model.training)\n",
        "param_dict = model.state_dict()\n",
        "for name,value in param_dict.items():\n",
        "    print(name)\n",
        "    print(value.numpy())"
      ],
      "execution_count": 9,
      "outputs": [
        {
          "output_type": "stream",
          "name": "stdout",
          "text": [
            "Training: True\n",
            "weight\n",
            "[1. 1. 1. 1. 1.]\n",
            "bias\n",
            "[0. 0. 0. 0. 0.]\n",
            "running_mean\n",
            "[  2.43 -18.83  -1.88   1.34  -9.88]\n",
            "running_var\n",
            "[1798.5  2003.41 2808.6  1063.3   593.24]\n",
            "num_batches_tracked\n",
            "2\n"
          ]
        }
      ]
    },
    {
      "metadata": {
        "id": "3GWA4y0KBR4c"
      },
      "cell_type": "markdown",
      "source": [
        "## Conferindo os novos valores de running_mean e running_var"
      ]
    },
    {
      "metadata": {
        "id": "lI7UgsbuBR4d"
      },
      "cell_type": "markdown",
      "source": [
        "\\begin{align*} \n",
        "\\boldsymbol{m}_{t} &=  \\lambda \\boldsymbol{\\mu_t} + (1 - \\lambda) \\boldsymbol{m}_{t-1} &&\n",
        "\\boldsymbol{v}_{t} =   \\lambda \\boldsymbol{\\sigma^{2}_t} + (1 - \\lambda) \\boldsymbol{v}_{t-1} \n",
        "\\end{align*}"
      ]
    },
    {
      "metadata": {
        "id": "UlNGccyaBR4f",
        "outputId": "59d7b1a8-79db-4277-f894-3931665e1985",
        "colab": {
          "base_uri": "https://localhost:8080/"
        }
      },
      "cell_type": "code",
      "source": [
        "print('old mv_mean, mv_var:', mv_mean.numpy(), mv_var.numpy())\n",
        "\n",
        "mv_mean_new = momentum * x.data.mean(0) + (1 - momentum) * mv_mean\n",
        "mv_var_new  = momentum * x.data.var(0,unbiased=True) + (1 - momentum) * mv_var\n",
        "\n",
        "print('my new running mean:',mv_mean_new.numpy())\n",
        "print('my new running var :',mv_var_new.numpy())"
      ],
      "execution_count": 10,
      "outputs": [
        {
          "output_type": "stream",
          "name": "stdout",
          "text": [
            "old mv_mean, mv_var: [0. 0. 0. 0. 0.] [1. 1. 1. 1. 1.]\n",
            "my new running mean: [ 1.28 -9.91 -0.99  0.71 -5.2 ]\n",
            "my new running var : [ 947.05 1054.9  1478.69  560.11  312.71]\n"
          ]
        }
      ]
    },
    {
      "metadata": {
        "id": "nT1PEfh6BR4i"
      },
      "cell_type": "markdown",
      "source": [
        "## Saída  y"
      ]
    },
    {
      "metadata": {
        "id": "zakGAAfPBR4l",
        "outputId": "2da400ca-facd-4d01-910a-d1c2ddce8bb0",
        "colab": {
          "base_uri": "https://localhost:8080/"
        }
      },
      "cell_type": "code",
      "source": [
        "y"
      ],
      "execution_count": 11,
      "outputs": [
        {
          "output_type": "execute_result",
          "data": {
            "text/plain": [
              "tensor([[-0.2842,  0.5561,  0.2489, -1.4705,  1.6731],\n",
              "        [ 0.4299,  0.6813, -0.5823,  0.8744, -0.4014],\n",
              "        [-1.4374,  0.4907, -1.1644,  0.9671, -0.2959],\n",
              "        [ 1.2916, -1.7280,  1.4977, -0.3710, -0.9758]],\n",
              "       grad_fn=<NativeBatchNormBackward0>)"
            ]
          },
          "metadata": {},
          "execution_count": 11
        }
      ]
    },
    {
      "metadata": {
        "id": "ikK7maPQBR4q"
      },
      "cell_type": "markdown",
      "source": [
        "## Conferindo com código próprio"
      ]
    },
    {
      "metadata": {
        "id": "FiXhgNA1BR4s"
      },
      "cell_type": "markdown",
      "source": [
        "Em treinamento, a normalização é feita com a estatística do mini-batch"
      ]
    },
    {
      "metadata": {
        "id": "7TiSMFuXBR4s"
      },
      "cell_type": "markdown",
      "source": [
        "$$  y = \\frac{x - mean[x]}{ \\sqrt{Var[x] + \\epsilon}} * gamma + beta $$"
      ]
    },
    {
      "metadata": {
        "id": "AQtYmOXfBR4t",
        "outputId": "3d393856-6c8f-405a-ba1b-237440ac446a",
        "colab": {
          "base_uri": "https://localhost:8080/"
        }
      },
      "cell_type": "code",
      "source": [
        "mean = x.mean(dim=0).data\n",
        "var  = x.var(dim=0, unbiased=False).data\n",
        "print('mean:',mean.numpy())\n",
        "print('var: ',var.numpy())\n",
        "y2 = (x.data - mean) / torch.sqrt(var + model.eps) * gamma + beta\n",
        "\n",
        "print(y2)"
      ],
      "execution_count": 12,
      "outputs": [
        {
          "output_type": "stream",
          "name": "stdout",
          "text": [
            "mean: [ 12.77 -99.1   -9.9    7.06 -52.  ]\n",
            "var:  [ 7096.13  7905.02 11083.39  4194.05  2338.55]\n",
            "tensor([[-0.2842,  0.5561,  0.2489, -1.4705,  1.6731],\n",
            "        [ 0.4299,  0.6813, -0.5823,  0.8744, -0.4014],\n",
            "        [-1.4374,  0.4907, -1.1644,  0.9671, -0.2959],\n",
            "        [ 1.2916, -1.7280,  1.4977, -0.3710, -0.9758]])\n"
          ]
        }
      ]
    },
    {
      "metadata": {
        "id": "p_0OwtW4BR4z"
      },
      "cell_type": "markdown",
      "source": [
        "## Modo predict sem treinamento"
      ]
    },
    {
      "metadata": {
        "id": "6lmN6nQmBR40"
      },
      "cell_type": "code",
      "source": [
        "model.training = False\n",
        "y = model(x)                           # Forward"
      ],
      "execution_count": 13,
      "outputs": []
    },
    {
      "metadata": {
        "id": "bW5bJcqMBR42"
      },
      "cell_type": "markdown",
      "source": [
        "Observe que agora, o running_mean e running_var serão utilizados"
      ]
    },
    {
      "metadata": {
        "id": "fqnX3-EFBR44",
        "outputId": "49c1ec1c-1ff5-4ac4-e516-14a520727e10",
        "colab": {
          "base_uri": "https://localhost:8080/"
        }
      },
      "cell_type": "code",
      "source": [
        "print('Training:', model.training)\n",
        "param_dict = model.state_dict()\n",
        "for name,value in param_dict.items():\n",
        "    print(name)\n",
        "    print(value.numpy())"
      ],
      "execution_count": 14,
      "outputs": [
        {
          "output_type": "stream",
          "name": "stdout",
          "text": [
            "Training: False\n",
            "weight\n",
            "[1. 1. 1. 1. 1.]\n",
            "bias\n",
            "[0. 0. 0. 0. 0.]\n",
            "running_mean\n",
            "[  2.43 -18.83  -1.88   1.34  -9.88]\n",
            "running_var\n",
            "[1798.5  2003.41 2808.6  1063.3   593.24]\n",
            "num_batches_tracked\n",
            "2\n"
          ]
        }
      ]
    },
    {
      "metadata": {
        "id": "FVbYDUgVBR5A"
      },
      "cell_type": "markdown",
      "source": [
        "## Resultado da rede no modo eval(), note que os valores não ficaram tão normalizados (por quê?)"
      ]
    },
    {
      "metadata": {
        "id": "fFWeUOtsBR5A",
        "outputId": "60282ae0-e453-4c67-f50b-9103e8de7957",
        "colab": {
          "base_uri": "https://localhost:8080/"
        }
      },
      "cell_type": "code",
      "source": [
        "y"
      ],
      "execution_count": 15,
      "outputs": [
        {
          "output_type": "execute_result",
          "data": {
            "text/plain": [
              "tensor([[-0.3206, -0.6888,  0.3432, -2.7450,  1.5926],\n",
              "        [ 1.0979, -0.4401, -1.3081,  1.9121, -2.5262],\n",
              "        [-2.6112, -0.8187, -2.4643,  2.0963, -2.3167],\n",
              "        [ 2.8096, -5.2258,  2.8240, -0.5613, -3.6666]],\n",
              "       grad_fn=<NativeBatchNormBackward0>)"
            ]
          },
          "metadata": {},
          "execution_count": 15
        }
      ]
    },
    {
      "metadata": {
        "id": "Tqh8E3C_BR5E"
      },
      "cell_type": "markdown",
      "source": [
        "## Conferindo com código próprio, note que usa-se o running_mean e running_var"
      ]
    },
    {
      "metadata": {
        "id": "g7UEtoRiBR5F",
        "outputId": "887689d0-c0bd-4e77-ea0d-4af1a5495463",
        "colab": {
          "base_uri": "https://localhost:8080/"
        }
      },
      "cell_type": "code",
      "source": [
        "gamma, beta, mv_mean, mv_var, _ = model.state_dict().values()\n",
        "\n",
        "mean = mv_mean\n",
        "var  = mv_var\n",
        "\n",
        "y2 = (x.data - mean) / torch.sqrt(var + model.eps) * gamma + beta\n",
        "\n",
        "print(y2)"
      ],
      "execution_count": 16,
      "outputs": [
        {
          "output_type": "stream",
          "name": "stdout",
          "text": [
            "tensor([[-0.3206, -0.6888,  0.3432, -2.7450,  1.5926],\n",
            "        [ 1.0979, -0.4401, -1.3081,  1.9121, -2.5262],\n",
            "        [-2.6112, -0.8187, -2.4643,  2.0963, -2.3167],\n",
            "        [ 2.8096, -5.2258,  2.8240, -0.5613, -3.6666]])\n"
          ]
        }
      ]
    },
    {
      "metadata": {
        "collapsed": true,
        "id": "XaaWvBcUBR5H"
      },
      "cell_type": "markdown",
      "source": [
        "## Exercícios"
      ]
    },
    {
      "metadata": {
        "id": "SyqpACTcBR5I"
      },
      "cell_type": "markdown",
      "source": [
        "1. Coloque a rede no modo treinamento em um laço, de modo que a running_mean e running_var se aproximem da média e variância do mini-batch. Quantas execuções da rede serão necessárias?"
      ]
    },
    {
      "metadata": {
        "id": "ngum2_L4BR5J"
      },
      "cell_type": "code",
      "source": [
        "model.training = True\n",
        "#for i in range(100):\n",
        "    #y = model(x)\n",
        "    # Busque aqui os valores da média móvel da média e variância que estão sendo aprendidos\n",
        "    #\n",
        "    #\n",
        "    #print(mv_mean.numpy(), mv_var.numpy())"
      ],
      "execution_count": null,
      "outputs": []
    }
  ]
}