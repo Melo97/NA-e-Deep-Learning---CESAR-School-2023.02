{
  "nbformat": 4,
  "nbformat_minor": 0,
  "metadata": {
    "colab": {
      "provenance": []
    },
    "kernelspec": {
      "name": "python3",
      "display_name": "Python 3"
    },
    "accelerator": "GPU"
  },
  "cells": [
    {
      "metadata": {
        "id": "3WJk5yG0qPxJ"
      },
      "cell_type": "markdown",
      "source": [
        "# Rede neural com camadas escondidas - Classificação do Iris dataset"
      ]
    },
    {
      "metadata": {
        "id": "eDCTSL77qPxL"
      },
      "cell_type": "markdown",
      "source": [
        "O objetivo desse experimento é ilustrar o uso de rede neural que tenha mais de uma camada. Isso é conseguido com a inserção de uma ativação não linear entre as camadas.\n",
        "\n",
        "Datasets utilizados:\n",
        "    - Iris - 3 classes\n",
        "    - Sintéticos:\n",
        "        - meia luas\n",
        "        - círculos circunscritos\n",
        "        - blobs"
      ]
    },
    {
      "metadata": {
        "ExecuteTime": {
          "end_time": "2017-10-17T11:35:30.295471",
          "start_time": "2017-10-17T11:35:30.291532"
        },
        "id": "vj4XiGaSqPxL"
      },
      "cell_type": "markdown",
      "source": [
        "![alt text](https://raw.githubusercontent.com/vcasadei/images/master/Net2RegressaoSoftmaxArgmaxRede.png)"
      ]
    },
    {
      "metadata": {
        "id": "z0ukeDbBqPxN"
      },
      "cell_type": "markdown",
      "source": [
        "## Importando as bibliotecas"
      ]
    },
    {
      "metadata": {
        "ExecuteTime": {
          "end_time": "2017-11-24T22:54:25.345600Z",
          "start_time": "2017-11-24T22:54:22.586145Z"
        },
        "id": "mDQyvYiAqPxQ"
      },
      "cell_type": "code",
      "source": [
        "%matplotlib inline\n",
        "from sklearn import datasets\n",
        "from IPython import display\n",
        "import numpy as np\n",
        "import matplotlib.pyplot as plt\n",
        "import pandas as pd\n",
        "\n",
        "import torch\n",
        "from torch.autograd import Variable\n",
        "import torch.nn as nn"
      ],
      "execution_count": 1,
      "outputs": []
    },
    {
      "metadata": {
        "id": "fKXjG5D3qPxW"
      },
      "cell_type": "markdown",
      "source": [
        "## Leitura, normalização e visualização dos dados"
      ]
    },
    {
      "metadata": {
        "ExecuteTime": {
          "end_time": "2017-11-24T22:55:12.042681Z",
          "start_time": "2017-11-24T22:55:11.740459Z"
        },
        "id": "gPP93sUfqPxY",
        "outputId": "a23f4b4e-10e6-4c2e-d276-3398df3e71ad",
        "colab": {
          "base_uri": "https://localhost:8080/",
          "height": 727
        }
      },
      "cell_type": "code",
      "source": [
        "n_samples = 150\n",
        "options = ['iris', 'moon', 'circles', 'blobs']\n",
        "option = options[1]\n",
        "if option is 'iris':\n",
        "    iris = datasets.load_iris()\n",
        "    X = iris.data[:,:2]  # comprimento das sépalas e pétalas, indices 0 e 2\n",
        "    Xc = X - X.min(axis=0)\n",
        "    Xc /= Xc.max(axis=0)\n",
        "    Y = iris.target\n",
        "elif option is 'moon':\n",
        "    Xc,Y = datasets.make_moons(n_samples=n_samples, noise=.15)\n",
        "elif option is 'circles':\n",
        "    Xc,Y = datasets.make_circles(n_samples=n_samples, factor=.5, noise=.1)\n",
        "elif option is 'blobs':\n",
        "    Xc,Y = datasets.make_blobs(n_samples=n_samples,centers=3,cluster_std=1.2)\n",
        "\n",
        "colors = np.array(['r','y','b'])\n",
        "plt.scatter(Xc[:, 0], Xc[:, 1], c=colors[Y])\n",
        "plt.xlabel('Sepal length')\n",
        "plt.ylabel('Sepal width')\n",
        "plt.show()"
      ],
      "execution_count": 2,
      "outputs": [
        {
          "output_type": "stream",
          "name": "stderr",
          "text": [
            "<>:4: SyntaxWarning: \"is\" with a literal. Did you mean \"==\"?\n",
            "<>:10: SyntaxWarning: \"is\" with a literal. Did you mean \"==\"?\n",
            "<>:12: SyntaxWarning: \"is\" with a literal. Did you mean \"==\"?\n",
            "<>:14: SyntaxWarning: \"is\" with a literal. Did you mean \"==\"?\n",
            "<>:4: SyntaxWarning: \"is\" with a literal. Did you mean \"==\"?\n",
            "<>:10: SyntaxWarning: \"is\" with a literal. Did you mean \"==\"?\n",
            "<>:12: SyntaxWarning: \"is\" with a literal. Did you mean \"==\"?\n",
            "<>:14: SyntaxWarning: \"is\" with a literal. Did you mean \"==\"?\n",
            "<ipython-input-2-81b818ebd058>:4: SyntaxWarning: \"is\" with a literal. Did you mean \"==\"?\n",
            "  if option is 'iris':\n",
            "<ipython-input-2-81b818ebd058>:10: SyntaxWarning: \"is\" with a literal. Did you mean \"==\"?\n",
            "  elif option is 'moon':\n",
            "<ipython-input-2-81b818ebd058>:12: SyntaxWarning: \"is\" with a literal. Did you mean \"==\"?\n",
            "  elif option is 'circles':\n",
            "<ipython-input-2-81b818ebd058>:14: SyntaxWarning: \"is\" with a literal. Did you mean \"==\"?\n",
            "  elif option is 'blobs':\n"
          ]
        },
        {
          "output_type": "display_data",
          "data": {
            "text/plain": [
              "<Figure size 640x480 with 1 Axes>"
            ],
            "image/png": "[encoded data removed]"
          },
          "metadata": {}
        }
      ]
    },
    {
      "metadata": {
        "id": "FOyBKZNQqPxf"
      },
      "cell_type": "markdown",
      "source": [
        "### Prepara os dados para o PyTorch"
      ]
    },
    {
      "metadata": {
        "ExecuteTime": {
          "end_time": "2017-11-24T22:55:14.149481Z",
          "start_time": "2017-11-24T22:55:14.144744Z"
        },
        "id": "zPIJSS1tqPxg"
      },
      "cell_type": "code",
      "source": [
        "X_tensor = torch.FloatTensor(Xc)\n",
        "Y_tensor = torch.LongTensor(Y)"
      ],
      "execution_count": 3,
      "outputs": []
    },
    {
      "metadata": {
        "id": "lANO2532qPxl"
      },
      "cell_type": "markdown",
      "source": [
        "## Construindo o modelo da rede"
      ]
    },
    {
      "metadata": {
        "ExecuteTime": {
          "end_time": "2017-11-24T22:56:02.316425Z",
          "start_time": "2017-11-24T22:56:02.304537Z"
        },
        "id": "iFMjzgJnqPxl",
        "outputId": "d0e2ed4e-cf0a-4f31-e19d-61aff0c8086c",
        "colab": {
          "base_uri": "https://localhost:8080/"
        }
      },
      "cell_type": "code",
      "source": [
        "class Modelo(nn.Module):\n",
        "    def __init__(self):\n",
        "        super(Modelo, self).__init__()\n",
        "        self.dense = nn.Sequential(\n",
        "            nn.Linear(2, 35),\n",
        "            nn.Tanh(),\n",
        "            nn.Linear(35, 35),\n",
        "            nn.Tanh(),\n",
        "            nn.Linear(35,3),\n",
        "        )\n",
        "\n",
        "    def forward(self, x):\n",
        "        x = self.dense(x)\n",
        "\n",
        "        return x\n",
        "\n",
        "model = Modelo()\n",
        "print(model)"
      ],
      "execution_count": 56,
      "outputs": [
        {
          "output_type": "stream",
          "name": "stdout",
          "text": [
            "Modelo(\n",
            "  (dense): Sequential(\n",
            "    (0): Linear(in_features=2, out_features=35, bias=True)\n",
            "    (1): Tanh()\n",
            "    (2): Linear(in_features=35, out_features=35, bias=True)\n",
            "    (3): Tanh()\n",
            "    (4): Linear(in_features=35, out_features=3, bias=True)\n",
            "  )\n",
            ")\n"
          ]
        }
      ]
    },
    {
      "cell_type": "code",
      "source": [
        "model = torch.nn.Linear(2, 3)"
      ],
      "metadata": {
        "id": "-J3UzLyHYFmw"
      },
      "execution_count": 15,
      "outputs": []
    },
    {
      "metadata": {
        "id": "Ywd3m8vtqPxp"
      },
      "cell_type": "markdown",
      "source": [
        "## _predict_ utilizada para predição de classes e na visualização"
      ]
    },
    {
      "metadata": {
        "ExecuteTime": {
          "end_time": "2017-11-24T23:03:18.751565Z",
          "start_time": "2017-11-24T23:03:18.738772Z"
        },
        "id": "5K0uADyfqPxq"
      },
      "cell_type": "code",
      "source": [
        "def predict(model, inputs):\n",
        "    outputs = model(Variable(inputs))\n",
        "    _, predicts = torch.max(outputs, 1)\n",
        "\n",
        "    return predicts.data.numpy()"
      ],
      "execution_count": 47,
      "outputs": []
    },
    {
      "metadata": {
        "id": "Vm5I3jgTqPxt"
      },
      "cell_type": "markdown",
      "source": [
        "## Classe para visualização dinâmica"
      ]
    },
    {
      "metadata": {
        "ExecuteTime": {
          "end_time": "2017-11-24T22:56:03.915101Z",
          "start_time": "2017-11-24T22:56:03.815986Z"
        },
        "id": "LVBiMIjzqPxu"
      },
      "cell_type": "code",
      "source": [
        "class BoundaryPlotter():\n",
        "    def __init__(self, model, X, Y, n_epoch, filepath=None, h = .01):\n",
        "        self.model = model\n",
        "        self.X = X\n",
        "        self.Y = Y\n",
        "        self.n_epoch = n_epoch\n",
        "        self.filepath = filepath\n",
        "        x_min, x_max = X[:, 0].min() - .5, X[:, 0].max() + .5\n",
        "        y_min, y_max = X[:, 1].min() - .5, X[:, 1].max() + .5\n",
        "        self.xx, self.yy = np.meshgrid(np.arange(x_min, x_max, h), np.arange(y_min, y_max, h))\n",
        "        self.loss_hist = []\n",
        "        self.val_loss_hist = []\n",
        "        self.X_grid = np.c_[self.xx.ravel(), self.yy.ravel()]\n",
        "\n",
        "        #Gráficos a serem mostrados pelo callback\n",
        "        self.fig = plt.figure(figsize=(8, 4), dpi=100)\n",
        "        self.ax1 = self.fig.add_subplot(1, 2, 1)\n",
        "        self.ax1.set_xlim(0, nb_epoch)\n",
        "        self.ax1.set_xlabel('Epoca')#,fontsize=28)\n",
        "        self.ax1.set_ylabel('Perda')#,fontsize=28)\n",
        "        self.ax1.plot([],[],'b',linewidth = 2.0,label = \"Treino\")\n",
        "        self.ax1.grid(True)\n",
        "\n",
        "        self.ax2 = self.fig.add_subplot(1, 2, 2)\n",
        "        self.ax2.set_xlim(Xc[:,0].min(), Xc[:,0].max())\n",
        "        self.ax2.set_ylim(Xc[:,1].min(), Xc[:,1].max())\n",
        "        self.ax2.set_xlabel('Comprimento da Sepala')#,fontsize=28)\n",
        "        self.ax2.set_ylabel('Largura da Sepala')#,fontsize=28)\n",
        "\n",
        "    def on_train_begin(self, logs={}):\n",
        "        display.display(self.fig)\n",
        "        display.clear_output(wait=True)\n",
        "\n",
        "    def on_epoch_end(self, epoch, logs={}):\n",
        "        if 'loss' in logs.keys():\n",
        "            self.loss_hist.append(logs['loss'])\n",
        "\n",
        "            if epoch%250==0:\n",
        "                self.ax1.plot(np.arange(epoch+1), self.loss_hist, 'b', linewidth = 2.0)\n",
        "\n",
        "                Z = predict(self.model, torch.from_numpy(self.X_grid).type(torch.FloatTensor))\n",
        "#                 Z = torch.max(self.model(Variable(torch.FloatTensor(self.X_grid))).data, dim=1)[1].numpy()\n",
        "                Z = Z.reshape(self.xx.shape)\n",
        "\n",
        "                self.ax2.pcolormesh(self.xx, self.yy, Z, cmap=plt.cm.Paired)\n",
        "                colors = np.array(['r','y','b'])\n",
        "                self.ax2.scatter(self.X[:, 0], self.X[:, 1], s=40, c=colors[self.Y], edgecolors='k', cmap=plt.cm.Paired)\n",
        "\n",
        "                display.display(self.fig)\n",
        "                display.clear_output(wait=True)"
      ],
      "execution_count": 32,
      "outputs": []
    },
    {
      "metadata": {
        "id": "wtdQ9FmAqPx5"
      },
      "cell_type": "markdown",
      "source": [
        "## Treinamento"
      ]
    },
    {
      "metadata": {
        "ExecuteTime": {
          "end_time": "2017-11-24T22:56:04.840289Z",
          "start_time": "2017-11-24T22:56:04.834859Z"
        },
        "id": "2SGMyetvqPx5"
      },
      "cell_type": "code",
      "source": [
        "lr = 0.15\n",
        "\n",
        "optimizer = torch.optim.SGD(model.parameters(), lr=lr)\n",
        "\n",
        "criterion = nn.CrossEntropyLoss()"
      ],
      "execution_count": 57,
      "outputs": []
    },
    {
      "metadata": {
        "id": "t5TeUTkoqPx9"
      },
      "cell_type": "markdown",
      "source": [
        "### Laço principal de treinamento"
      ]
    },
    {
      "metadata": {
        "ExecuteTime": {
          "end_time": "2017-11-24T22:56:23.125460Z",
          "start_time": "2017-11-24T22:56:05.793330Z"
        },
        "scrolled": false,
        "id": "foxIW5cgqPx9",
        "outputId": "6889bf71-4d43-4c59-b186-17c169775b53",
        "colab": {
          "base_uri": "https://localhost:8080/",
          "height": 410
        }
      },
      "cell_type": "code",
      "source": [
        "batch_size = 150\n",
        "nb_epoch = 3000\n",
        "\n",
        "#Definindo o plotter\n",
        "boundary_plot = BoundaryPlotter(model, Xc, Y, nb_epoch)\n",
        "\n",
        "boundary_plot.on_train_begin()\n",
        "losses = []\n",
        "for i in range(nb_epoch):\n",
        "    # predict da rede\n",
        "    output = model(Variable(X_tensor))\n",
        "\n",
        "    loss = criterion(output, Variable(Y_tensor))\n",
        "\n",
        "    # zero, backpropagation gradient, atualiza param gradiente descendente\n",
        "    optimizer.zero_grad()\n",
        "    loss.backward()\n",
        "    optimizer.step()\n",
        "\n",
        "    losses.append(loss.data)\n",
        "\n",
        "    boundary_plot.on_epoch_end(i, {'loss': loss.data})\n",
        "\n",
        "print('Final loss:', loss.data)"
      ],
      "execution_count": 58,
      "outputs": [
        {
          "output_type": "stream",
          "name": "stdout",
          "text": [
            "Final loss: tensor(0.0037)\n"
          ]
        },
        {
          "output_type": "display_data",
          "data": {
            "text/plain": [
              "<Figure size 800x400 with 2 Axes>"
            ],
            "image/png": "[encoded data removed]"
          },
          "metadata": {}
        }
      ]
    },
    {
      "metadata": {
        "id": "f9HPXeFiqPyD"
      },
      "cell_type": "markdown",
      "source": [
        "## Avaliação"
      ]
    },
    {
      "metadata": {
        "id": "9wmk8Y5PqPyE"
      },
      "cell_type": "markdown",
      "source": [
        "### Imprimindo pesos finais"
      ]
    },
    {
      "metadata": {
        "ExecuteTime": {
          "end_time": "2017-11-24T23:00:11.608903Z",
          "start_time": "2017-11-24T23:00:11.601057Z"
        },
        "scrolled": false,
        "id": "IeUgTxF4qPyF",
        "outputId": "f54feaf7-9f9d-4f0f-d8a7-20f4b2f31a95",
        "colab": {
          "base_uri": "https://localhost:8080/"
        }
      },
      "cell_type": "code",
      "source": [
        "for name, w in model.state_dict().items():\n",
        "    print('{:16}{}'.format(name, w.size()))\n",
        "    print(w)"
      ],
      "execution_count": 59,
      "outputs": [
        {
          "output_type": "stream",
          "name": "stdout",
          "text": [
            "dense.0.weight  torch.Size([35, 2])\n",
            "tensor([[-0.3947,  0.3793],\n",
            "        [-0.0474,  0.5332],\n",
            "        [ 0.2990,  0.6368],\n",
            "        [-0.3890,  0.4767],\n",
            "        [ 0.9053,  0.5727],\n",
            "        [-0.3446,  0.3015],\n",
            "        [-0.4974,  0.3092],\n",
            "        [-0.7628, -0.3538],\n",
            "        [ 0.7751, -0.9384],\n",
            "        [ 0.0264,  0.6208],\n",
            "        [-1.2228, -1.1115],\n",
            "        [-0.5123, -0.7280],\n",
            "        [-0.1759,  0.6025],\n",
            "        [ 0.2810, -0.6471],\n",
            "        [ 1.7711,  0.0789],\n",
            "        [ 0.5248, -0.3514],\n",
            "        [-0.3402,  0.1966],\n",
            "        [ 0.0373, -0.4931],\n",
            "        [-1.6810, -0.8694],\n",
            "        [ 0.6158, -0.1395],\n",
            "        [ 0.2042, -0.4864],\n",
            "        [ 0.4686, -0.3720],\n",
            "        [ 0.4648,  0.1685],\n",
            "        [-0.7410,  0.7323],\n",
            "        [-0.3723, -0.3769],\n",
            "        [-0.3544, -0.1787],\n",
            "        [-0.4836,  0.3386],\n",
            "        [-0.5695,  0.6102],\n",
            "        [-0.6528,  0.3716],\n",
            "        [-0.5457, -0.2770],\n",
            "        [-0.1844, -0.4569],\n",
            "        [-0.2505,  0.1610],\n",
            "        [ 1.2285, -0.2344],\n",
            "        [-0.3047,  0.5696],\n",
            "        [ 3.8158, -0.6414]])\n",
            "dense.0.bias    torch.Size([35])\n",
            "tensor([-0.4545, -0.1585,  0.5703, -0.2462,  0.4102,  0.1151,  0.2818, -0.4018,\n",
            "        -0.9528,  0.3528, -0.5332,  0.4364, -0.2336, -0.2212,  0.7610, -0.6279,\n",
            "         0.7279,  0.1104,  0.7390, -0.7912, -0.5563, -0.4554,  0.2780,  0.9328,\n",
            "        -0.5533, -0.0541,  0.5774, -0.6472, -0.2503, -0.3043, -0.1310,  0.3656,\n",
            "         0.6210, -0.0430, -1.3698])\n",
            "dense.2.weight  torch.Size([35, 35])\n",
            "tensor([[ 0.1347,  0.1318, -0.2273,  ..., -0.2658, -0.0171,  0.0280],\n",
            "        [ 0.1071,  0.1582, -0.1462,  ..., -0.1126,  0.1269, -0.1652],\n",
            "        [ 0.0304,  0.0068, -0.0342,  ...,  0.1304, -0.0142, -0.2146],\n",
            "        ...,\n",
            "        [-0.0662, -0.0979,  0.1774,  ...,  0.2235,  0.1059, -0.0205],\n",
            "        [ 0.0407, -0.1426,  0.0710,  ..., -0.0163, -0.0249,  0.0465],\n",
            "        [ 0.0996,  0.1701, -0.0705,  ..., -0.2051,  0.0119,  0.7449]])\n",
            "dense.2.bias    torch.Size([35])\n",
            "tensor([ 7.8492e-02, -8.7431e-03,  9.1179e-02, -2.5194e-01, -9.6149e-02,\n",
            "         2.0845e-01, -1.5972e-01, -1.5402e-04, -1.1701e-01, -7.6011e-02,\n",
            "        -7.4125e-02, -1.3514e-01, -7.5630e-03,  1.5485e-02, -7.5082e-02,\n",
            "         6.7645e-03,  1.1312e-01, -3.2640e-01, -2.4021e-01, -1.2812e-01,\n",
            "         1.4696e-01,  2.6107e-01,  7.2666e-02,  7.0967e-02, -6.5038e-02,\n",
            "         2.0860e-02, -2.6515e-01,  9.5353e-02, -5.6501e-02,  9.9411e-02,\n",
            "         8.1368e-02, -2.3151e-01,  2.4699e-01,  1.0313e-01, -8.8077e-02])\n",
            "dense.4.weight  torch.Size([3, 35])\n",
            "tensor([[ 4.6975e-01, -1.7012e-01,  2.0855e-02, -2.3628e-01, -8.9767e-02,\n",
            "          3.9740e-02,  1.3289e-01,  6.6504e-01, -3.9631e-01,  6.0157e-01,\n",
            "         -3.7317e-01, -1.7283e-01, -2.1378e-02,  8.8314e-01,  3.1812e-01,\n",
            "          7.7925e-01, -3.3513e-01, -2.6343e-01, -1.6181e+00, -2.9336e-01,\n",
            "          1.0633e+00,  1.1628e+00,  5.4815e-01,  1.2654e+00,  5.2487e-01,\n",
            "         -6.3101e-01, -8.3749e-01,  1.8622e-01, -8.1792e-02,  6.3912e-01,\n",
            "         -3.2086e-02, -5.8479e-01,  9.0787e-02,  9.9349e-02,  6.6223e-01],\n",
            "        [-8.2491e-01,  8.5774e-02,  5.1148e-01, -1.3033e-01,  3.3466e-02,\n",
            "          2.5831e-01, -5.7462e-01, -6.3124e-01,  2.0281e-01, -7.0484e-01,\n",
            "          2.5806e-02,  4.0761e-01, -4.2762e-01, -1.1654e+00, -6.5692e-01,\n",
            "         -7.0605e-01,  3.4208e-01, -1.7304e-01,  1.7003e+00,  1.8381e-01,\n",
            "         -9.3541e-01, -1.2652e+00, -6.4649e-01, -1.3512e+00, -5.6901e-01,\n",
            "          6.8034e-01,  5.3191e-01,  4.6653e-02,  1.1029e-01, -3.8094e-01,\n",
            "         -5.3806e-06,  3.2219e-01,  4.0223e-01,  2.7066e-01, -6.6811e-01],\n",
            "        [ 1.6136e-01,  2.0376e-01, -2.6087e-01,  2.6306e-01,  3.8591e-01,\n",
            "         -2.8845e-01,  1.2946e-01, -2.2934e-02,  2.9677e-01,  2.2186e-01,\n",
            "          4.2179e-02,  5.7794e-02,  2.0245e-01,  3.1041e-02,  2.4575e-01,\n",
            "          8.8980e-02,  1.7686e-01,  3.8984e-01, -1.1868e-01,  1.7741e-01,\n",
            "         -7.2885e-03,  2.9122e-02, -2.2612e-01,  1.2674e-02, -2.0851e-01,\n",
            "         -3.6168e-01,  2.1361e-01, -3.1268e-01, -7.5329e-03, -4.4920e-01,\n",
            "         -6.4312e-02,  3.2912e-01, -4.5611e-01, -3.9607e-01,  7.1129e-02]])\n",
            "dense.4.bias    torch.Size([3])\n",
            "tensor([ 0.2830,  0.2847, -0.5217])\n"
          ]
        }
      ]
    },
    {
      "metadata": {
        "id": "vbe9fLdFqPyI"
      },
      "cell_type": "markdown",
      "source": [
        "### Avaliação do classificador"
      ]
    },
    {
      "metadata": {
        "ExecuteTime": {
          "end_time": "2017-11-24T23:03:18.751565Z",
          "start_time": "2017-11-24T23:03:18.738772Z"
        },
        "id": "11HpA4w8qPyJ",
        "outputId": "0d677ffe-c447-4d74-be30-9e2247256144",
        "colab": {
          "base_uri": "https://localhost:8080/"
        }
      },
      "cell_type": "code",
      "source": [
        "Y_hat = predict(model, X_tensor)\n",
        "accuracy = (Y_hat == Y).mean()\n",
        "print()\n",
        "print('Training Accuracy: ', accuracy)"
      ],
      "execution_count": 60,
      "outputs": [
        {
          "output_type": "stream",
          "name": "stdout",
          "text": [
            "\n",
            "Training Accuracy:  1.0\n"
          ]
        }
      ]
    },
    {
      "metadata": {
        "id": "vuv5rBJSqPyN"
      },
      "cell_type": "markdown",
      "source": [
        "### Matriz de confusão"
      ]
    },
    {
      "metadata": {
        "ExecuteTime": {
          "end_time": "2017-11-24T23:03:11.553510Z",
          "start_time": "2017-11-24T23:03:11.528223Z"
        },
        "id": "WF5EA25GqPyO",
        "outputId": "41a35fe8-f5aa-441a-e6a9-3ff6bab98aa8",
        "colab": {
          "base_uri": "https://localhost:8080/",
          "height": 143
        }
      },
      "cell_type": "code",
      "source": [
        "import pandas as pd\n",
        "pd.crosstab(Y_hat, Y)"
      ],
      "execution_count": 61,
      "outputs": [
        {
          "output_type": "execute_result",
          "data": {
            "text/plain": [
              "col_0   0   1\n",
              "row_0        \n",
              "0      75   0\n",
              "1       0  75"
            ],
            "text/html": [
              "\n",
              "  <div id=\"df-d6caeee2-ca1b-4d6c-a957-d92a67c6b7ba\" class=\"colab-df-container\">\n",
              "    <div>\n",
              "<style scoped>\n",
              "    .dataframe tbody tr th:only-of-type {\n",
              "        vertical-align: middle;\n",
              "    }\n",
              "\n",
              "    .dataframe tbody tr th {\n",
              "        vertical-align: top;\n",
              "    }\n",
              "\n",
              "    .dataframe thead th {\n",
              "        text-align: right;\n",
              "    }\n",
              "</style>\n",
              "<table border=\"1\" class=\"dataframe\">\n",
              "  <thead>\n",
              "    <tr style=\"text-align: right;\">\n",
              "      <th>col_0</th>\n",
              "      <th>0</th>\n",
              "      <th>1</th>\n",
              "    </tr>\n",
              "    <tr>\n",
              "      <th>row_0</th>\n",
              "      <th></th>\n",
              "      <th></th>\n",
              "    </tr>\n",
              "  </thead>\n",
              "  <tbody>\n",
              "    <tr>\n",
              "      <th>0</th>\n",
              "      <td>75</td>\n",
              "      <td>0</td>\n",
              "    </tr>\n",
              "    <tr>\n",
              "      <th>1</th>\n",
              "      <td>0</td>\n",
              "      <td>75</td>\n",
              "    </tr>\n",
              "  </tbody>\n",
              "</table>\n",
              "</div>\n",
              "    <div class=\"colab-df-buttons\">\n",
              "\n",
              "  <div class=\"colab-df-container\">\n",
              "    <button class=\"colab-df-convert\" onclick=\"convertToInteractive('df-d6caeee2-ca1b-4d6c-a957-d92a67c6b7ba')\"\n",
              "            title=\"Convert this dataframe to an interactive table.\"\n",
              "            style=\"display:none;\">\n",
              "\n",
              "  <svg xmlns=\"http://www.w3.org/2000/svg\" height=\"24px\" viewBox=\"0 -960 960 960\">\n",
              "    <path d=\"M120-120v-720h720v720H120Zm60-500h600v-160H180v160Zm220 220h160v-160H400v160Zm0 220h160v-160H400v160ZM180-400h160v-160H180v160Zm440 0h160v-160H620v160ZM180-180h160v-160H180v160Zm440 0h160v-160H620v160Z\"/>\n",
              "  </svg>\n",
              "    </button>\n",
              "\n",
              "  <style>\n",
              "    .colab-df-container {\n",
              "      display:flex;\n",
              "      gap: 12px;\n",
              "    }\n",
              "\n",
              "    .colab-df-convert {\n",
              "      background-color: #E8F0FE;\n",
              "      border: none;\n",
              "      border-radius: 50%;\n",
              "      cursor: pointer;\n",
              "      display: none;\n",
              "      fill: #1967D2;\n",
              "      height: 32px;\n",
              "      padding: 0 0 0 0;\n",
              "      width: 32px;\n",
              "    }\n",
              "\n",
              "    .colab-df-convert:hover {\n",
              "      background-color: #E2EBFA;\n",
              "      box-shadow: 0px 1px 2px rgba(60, 64, 67, 0.3), 0px 1px 3px 1px rgba(60, 64, 67, 0.15);\n",
              "      fill: #174EA6;\n",
              "    }\n",
              "\n",
              "    .colab-df-buttons div {\n",
              "      margin-bottom: 4px;\n",
              "    }\n",
              "\n",
              "    [theme=dark] .colab-df-convert {\n",
              "      background-color: #3B4455;\n",
              "      fill: #D2E3FC;\n",
              "    }\n",
              "\n",
              "    [theme=dark] .colab-df-convert:hover {\n",
              "      background-color: #434B5C;\n",
              "      box-shadow: 0px 1px 3px 1px rgba(0, 0, 0, 0.15);\n",
              "      filter: drop-shadow(0px 1px 2px rgba(0, 0, 0, 0.3));\n",
              "      fill: #FFFFFF;\n",
              "    }\n",
              "  </style>\n",
              "\n",
              "    <script>\n",
              "      const buttonEl =\n",
              "        document.querySelector('#df-d6caeee2-ca1b-4d6c-a957-d92a67c6b7ba button.colab-df-convert');\n",
              "      buttonEl.style.display =\n",
              "        google.colab.kernel.accessAllowed ? 'block' : 'none';\n",
              "\n",
              "      async function convertToInteractive(key) {\n",
              "        const element = document.querySelector('#df-d6caeee2-ca1b-4d6c-a957-d92a67c6b7ba');\n",
              "        const dataTable =\n",
              "          await google.colab.kernel.invokeFunction('convertToInteractive',\n",
              "                                                    [key], {});\n",
              "        if (!dataTable) return;\n",
              "\n",
              "        const docLinkHtml = 'Like what you see? Visit the ' +\n",
              "          '<a target=\"_blank\" href=https://colab.research.google.com/notebooks/data_table.ipynb>data table notebook</a>'\n",
              "          + ' to learn more about interactive tables.';\n",
              "        element.innerHTML = '';\n",
              "        dataTable['output_type'] = 'display_data';\n",
              "        await google.colab.output.renderOutput(dataTable, element);\n",
              "        const docLink = document.createElement('div');\n",
              "        docLink.innerHTML = docLinkHtml;\n",
              "        element.appendChild(docLink);\n",
              "      }\n",
              "    </script>\n",
              "  </div>\n",
              "\n",
              "\n",
              "<div id=\"df-eb22fdea-a265-409a-8e93-68709aa4943c\">\n",
              "  <button class=\"colab-df-quickchart\" onclick=\"quickchart('df-eb22fdea-a265-409a-8e93-68709aa4943c')\"\n",
              "            title=\"Suggest charts.\"\n",
              "            style=\"display:none;\">\n",
              "\n",
              "<svg xmlns=\"http://www.w3.org/2000/svg\" height=\"24px\"viewBox=\"0 0 24 24\"\n",
              "     width=\"24px\">\n",
              "    <g>\n",
              "        <path d=\"M19 3H5c-1.1 0-2 .9-2 2v14c0 1.1.9 2 2 2h14c1.1 0 2-.9 2-2V5c0-1.1-.9-2-2-2zM9 17H7v-7h2v7zm4 0h-2V7h2v10zm4 0h-2v-4h2v4z\"/>\n",
              "    </g>\n",
              "</svg>\n",
              "  </button>\n",
              "\n",
              "<style>\n",
              "  .colab-df-quickchart {\n",
              "      --bg-color: #E8F0FE;\n",
              "      --fill-color: #1967D2;\n",
              "      --hover-bg-color: #E2EBFA;\n",
              "      --hover-fill-color: #174EA6;\n",
              "      --disabled-fill-color: #AAA;\n",
              "      --disabled-bg-color: #DDD;\n",
              "  }\n",
              "\n",
              "  [theme=dark] .colab-df-quickchart {\n",
              "      --bg-color: #3B4455;\n",
              "      --fill-color: #D2E3FC;\n",
              "      --hover-bg-color: #434B5C;\n",
              "      --hover-fill-color: #FFFFFF;\n",
              "      --disabled-bg-color: #3B4455;\n",
              "      --disabled-fill-color: #666;\n",
              "  }\n",
              "\n",
              "  .colab-df-quickchart {\n",
              "    background-color: var(--bg-color);\n",
              "    border: none;\n",
              "    border-radius: 50%;\n",
              "    cursor: pointer;\n",
              "    display: none;\n",
              "    fill: var(--fill-color);\n",
              "    height: 32px;\n",
              "    padding: 0;\n",
              "    width: 32px;\n",
              "  }\n",
              "\n",
              "  .colab-df-quickchart:hover {\n",
              "    background-color: var(--hover-bg-color);\n",
              "    box-shadow: 0 1px 2px rgba(60, 64, 67, 0.3), 0 1px 3px 1px rgba(60, 64, 67, 0.15);\n",
              "    fill: var(--button-hover-fill-color);\n",
              "  }\n",
              "\n",
              "  .colab-df-quickchart-complete:disabled,\n",
              "  .colab-df-quickchart-complete:disabled:hover {\n",
              "    background-color: var(--disabled-bg-color);\n",
              "    fill: var(--disabled-fill-color);\n",
              "    box-shadow: none;\n",
              "  }\n",
              "\n",
              "  .colab-df-spinner {\n",
              "    border: 2px solid var(--fill-color);\n",
              "    border-color: transparent;\n",
              "    border-bottom-color: var(--fill-color);\n",
              "    animation:\n",
              "      spin 1s steps(1) infinite;\n",
              "  }\n",
              "\n",
              "  @keyframes spin {\n",
              "    0% {\n",
              "      border-color: transparent;\n",
              "      border-bottom-color: var(--fill-color);\n",
              "      border-left-color: var(--fill-color);\n",
              "    }\n",
              "    20% {\n",
              "      border-color: transparent;\n",
              "      border-left-color: var(--fill-color);\n",
              "      border-top-color: var(--fill-color);\n",
              "    }\n",
              "    30% {\n",
              "      border-color: transparent;\n",
              "      border-left-color: var(--fill-color);\n",
              "      border-top-color: var(--fill-color);\n",
              "      border-right-color: var(--fill-color);\n",
              "    }\n",
              "    40% {\n",
              "      border-color: transparent;\n",
              "      border-right-color: var(--fill-color);\n",
              "      border-top-color: var(--fill-color);\n",
              "    }\n",
              "    60% {\n",
              "      border-color: transparent;\n",
              "      border-right-color: var(--fill-color);\n",
              "    }\n",
              "    80% {\n",
              "      border-color: transparent;\n",
              "      border-right-color: var(--fill-color);\n",
              "      border-bottom-color: var(--fill-color);\n",
              "    }\n",
              "    90% {\n",
              "      border-color: transparent;\n",
              "      border-bottom-color: var(--fill-color);\n",
              "    }\n",
              "  }\n",
              "</style>\n",
              "\n",
              "  <script>\n",
              "    async function quickchart(key) {\n",
              "      const quickchartButtonEl =\n",
              "        document.querySelector('#' + key + ' button');\n",
              "      quickchartButtonEl.disabled = true;  // To prevent multiple clicks.\n",
              "      quickchartButtonEl.classList.add('colab-df-spinner');\n",
              "      try {\n",
              "        const charts = await google.colab.kernel.invokeFunction(\n",
              "            'suggestCharts', [key], {});\n",
              "      } catch (error) {\n",
              "        console.error('Error during call to suggestCharts:', error);\n",
              "      }\n",
              "      quickchartButtonEl.classList.remove('colab-df-spinner');\n",
              "      quickchartButtonEl.classList.add('colab-df-quickchart-complete');\n",
              "    }\n",
              "    (() => {\n",
              "      let quickchartButtonEl =\n",
              "        document.querySelector('#df-eb22fdea-a265-409a-8e93-68709aa4943c button');\n",
              "      quickchartButtonEl.style.display =\n",
              "        google.colab.kernel.accessAllowed ? 'block' : 'none';\n",
              "    })();\n",
              "  </script>\n",
              "</div>\n",
              "    </div>\n",
              "  </div>\n"
            ]
          },
          "metadata": {},
          "execution_count": 61
        }
      ]
    },
    {
      "metadata": {
        "id": "-UlZfJ5QqPyU"
      },
      "cell_type": "markdown",
      "source": [
        "## Atividades"
      ]
    },
    {
      "metadata": {
        "id": "0GTv2_sKqPyW"
      },
      "cell_type": "markdown",
      "source": [
        "### Experimentos:"
      ]
    },
    {
      "metadata": {
        "id": "p-m7IuPzqPyW"
      },
      "cell_type": "markdown",
      "source": [
        "1. Troque o dataset, utilizado. Veja que tem vários para escolher.\n",
        "2. Faça alterações na rede, alterando o número de neurônios, de camadas.\n",
        "3. No lugar da ReLU, coloque Sigmoid e observe a diferença\n",
        "4. O que ocorre quando não se utiliza ativação não linear entre camadas."
      ]
    },
    {
      "metadata": {
        "id": "qT-59-fVqPyX"
      },
      "cell_type": "markdown",
      "source": [
        "## Principais aprendizados"
      ]
    },
    {
      "metadata": {
        "id": "HtWp1NmEqPya"
      },
      "cell_type": "code",
      "source": [],
      "execution_count": null,
      "outputs": []
    }
  ]
}