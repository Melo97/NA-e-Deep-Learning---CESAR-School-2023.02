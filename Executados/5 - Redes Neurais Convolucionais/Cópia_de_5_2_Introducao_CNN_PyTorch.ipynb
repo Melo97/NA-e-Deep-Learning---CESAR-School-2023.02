{
  "nbformat": 4,
  "nbformat_minor": 0,
  "metadata": {
    "colab": {
      "provenance": []
    },
    "kernelspec": {
      "name": "python3",
      "display_name": "Python 3"
    },
    "accelerator": "GPU",
    "gpuClass": "standard"
  },
  "cells": [
    {
      "metadata": {
        "id": "HkSaLnDHfA2m"
      },
      "cell_type": "markdown",
      "source": [
        "# Introduçãos às CNNs no PyTorch\n",
        "\n",
        "## Objetivos\n",
        "\n",
        "Este notebook contém exemplo numérico de uma rede com uma camada convolucional e uma camada densa. A camada convolucional possui ativação reLU e max-pooling. Já a camada densa possui uma única saída com ativação sigmóide.\n",
        "\n",
        "Com esse exemplo, aprende-se a:\n",
        "- construir a rede utilizando subclasses de Module do PyTorch\n",
        "- inicializar os pesos e biases da rede convolucional e da rede densa\n",
        "- visualizar os dados intermediários da rede"
      ]
    },
    {
      "metadata": {
        "id": "SptdJKJKfA2p"
      },
      "cell_type": "markdown",
      "source": [
        "## Importação dos Módulos"
      ]
    },
    {
      "metadata": {
        "ExecuteTime": {
          "end_time": "2017-09-22T15:48:54.536400",
          "start_time": "2017-09-22T15:48:54.155861"
        },
        "id": "bIL22GMafA2q"
      },
      "cell_type": "code",
      "source": [
        "import numpy as np\n",
        "import os\n",
        "\n",
        "import torch\n",
        "import torch.nn as nn\n",
        "import torch.functional as F\n",
        "from torch.autograd import Variable\n",
        "\n",
        "from collections import OrderedDict\n",
        "from IPython.core.display import display, HTML\n",
        "\n",
        "np.set_printoptions(precision=3) # ponto flutuante com 3 casas para facilitar a impressão"
      ],
      "execution_count": 2,
      "outputs": []
    },
    {
      "metadata": {
        "ExecuteTime": {
          "end_time": "2017-09-22T15:48:54.542727",
          "start_time": "2017-09-22T15:48:54.538033"
        },
        "id": "0qHh9fqJfA2y",
        "outputId": "28795330-3663-4137-8103-ea2536d59032",
        "colab": {
          "base_uri": "https://localhost:8080/"
        }
      },
      "cell_type": "code",
      "source": [
        "# verifica se a GPU está disponível\n",
        "use_gpu = torch.cuda.is_available()\n",
        "print(\"Usando GPU:\", use_gpu)"
      ],
      "execution_count": 3,
      "outputs": [
        {
          "output_type": "stream",
          "name": "stdout",
          "text": [
            "Usando GPU: True\n"
          ]
        }
      ]
    },
    {
      "metadata": {
        "id": "Nvdig099fA25"
      },
      "cell_type": "markdown",
      "source": [
        "## Definição da Rede, camadas convolucionais e densas"
      ]
    },
    {
      "metadata": {
        "id": "sPpFRL_5fA26"
      },
      "cell_type": "markdown",
      "source": [
        "### Definição de camadas\n",
        "\n",
        "Em redes neurais, uma camada é usualmente um neurônio, que inclui a soma de multiplicação de\n",
        "pesos ou convolução e uma ativação usualmente não linear. Podemos dizer que o max-pooling \n",
        "também faz parte da camada.\n",
        "\n",
        "A rede que iremos utilizar neste exemplo possui 2 camadas: uma convolucional e outra densa.\n",
        "A camada convolucional terá ativação reLU e um max-pooling, já a camada densa terá uma\n",
        "ativação sigmóide."
      ]
    },
    {
      "metadata": {
        "ExecuteTime": {
          "end_time": "2017-05-14T20:48:42.200325",
          "start_time": "2017-05-14T20:48:42.050307"
        },
        "id": "9KgJK5IEfA27"
      },
      "cell_type": "markdown",
      "source": [
        "### Rede a ser implementada\n",
        "\n",
        "![alt text](https://raw.githubusercontent.com/vcasadei/images/master/RedeIntroKeras.png)"
      ]
    },
    {
      "cell_type": "code",
      "source": [
        "print(3*1*2*2 + 2*2 + 3*2*2)"
      ],
      "metadata": {
        "colab": {
          "base_uri": "https://localhost:8080/"
        },
        "id": "ngrHF-nxdMmW",
        "outputId": "4d9af9d5-6843-4cc5-de66-7447b807921c"
      },
      "execution_count": 21,
      "outputs": [
        {
          "output_type": "stream",
          "name": "stdout",
          "text": [
            "28\n"
          ]
        }
      ]
    },
    {
      "metadata": {
        "id": "_yWZrcyjfA28"
      },
      "cell_type": "markdown",
      "source": [
        "### Criando redes np PyTorch\n",
        "\n",
        "Uma CNN no PyTorch é criada utilizando uma classe que é subclasse do *torch.nn.Module*. Essa classe poderá ter variáveis que também são instâncias de subclasses de *torch.nn.Module*.\n",
        "\n",
        "- *torch.nn.Conv2d*\n",
        "- *torch.nn.ReLU*\n",
        "- *torch.nn.MaxPool2d*\n",
        "- *torch.nn.Linear*\n",
        "- *torch.nn.Sequential*\n",
        "\n",
        "Todas estas classes são também subclasses de *torch.nn.Module* e podem ser instanciadas no contrutor para serem utilizadas na classe (ver [Documentação torch.nn](http://pytorch.org/docs/master/nn.html))"
      ]
    },
    {
      "metadata": {
        "id": "ZICgjY0JfA29"
      },
      "cell_type": "markdown",
      "source": [
        "### Implementação do modelo"
      ]
    },
    {
      "metadata": {
        "ExecuteTime": {
          "end_time": "2017-09-22T15:48:54.592314",
          "start_time": "2017-09-22T15:48:54.544462"
        },
        "id": "ZQXwRdC_fA29"
      },
      "cell_type": "code",
      "source": [
        "class Model(nn.Module):\n",
        "    \n",
        "    # Definição de Modules que serão utilizados na rede\n",
        "    def __init__(self):\n",
        "        super(Model, self).__init__()\n",
        "        \n",
        "        # entrada a)  shape (1,6,6)\n",
        "        # b) entrada com shape (3,6,6)\n",
        "        \n",
        "        # 4 filtros de saída e kernel (3,3)\n",
        "        \n",
        "        \n",
        "        # camada convolucional\n",
        "        self.conv = nn.Conv2d(3, 3, (3, 2), padding=0, bias=True)\n",
        "        self.relu = nn.ReLU()\n",
        "        self.conv2 = nn.Conv2d(3, 4, (3, 3), padding=0, bias=True)\n",
        "        # 4, 2, 3\n",
        "        self.max_pool = nn.MaxPool2d((2, 2))\n",
        "        \n",
        "        \n",
        "        # camada densa\n",
        "        self.dense = nn.Linear(4, 1, bias=True)\n",
        "        self.sigmoid = nn.Sigmoid()\n",
        "    \n",
        "    # Método de definição obrigatória\n",
        "    # Sequencia que será efetivamente executada para obter a saída da rede\n",
        "    def forward(self, x):\n",
        "        # passa os dados pela camada convolucional\n",
        "        x = self.conv(x)\n",
        "        x = self.relu(x)\n",
        "        x = self.conv2(x)\n",
        "        x = self.max_pool(x)\n",
        "        \n",
        "        \n",
        "        # faz o flatten dos dados\n",
        "        x = x.view(-1, 4)\n",
        "        \n",
        "        # passa os dados pela camada densa\n",
        "        x = self.dense(x)\n",
        "        x = self.sigmoid(x)\n",
        "        \n",
        "        return x\n",
        "    \n",
        "    # Método opcional utilizado para mostrar a saída de cada parte da rede\n",
        "    def modules_output(self, x):\n",
        "        self.output = OrderedDict()        \n",
        "\n",
        "        # passa os dados pela camada convolucional\n",
        "        x = self.conv(x)\n",
        "        self.output['conv'] = x\n",
        "        \n",
        "        x = self.relu(x)\n",
        "        self.output['relu'] = x\n",
        "        \n",
        "        x = self.conv2(x)\n",
        "        self.output['conv2'] = x\n",
        "        \n",
        "        x = self.max_pool(x)\n",
        "        self.output['max_pool'] = x\n",
        "        \n",
        "        \n",
        "        \n",
        "        # faz o flatten dos dados\n",
        "        print(x.shape)\n",
        "        x = x.view(-1, 4)\n",
        "        self.output['flatten'] = x\n",
        "        \n",
        "        # passa os dados pela camada densa\n",
        "        x = self.dense(x)\n",
        "        self.output['dense'] = x\n",
        "        x = self.sigmoid(x)\n",
        "        self.output['sigmoid'] = x\n",
        "\n",
        "        return self.output"
      ],
      "execution_count": 4,
      "outputs": []
    },
    {
      "metadata": {
        "ExecuteTime": {
          "end_time": "2017-09-22T15:48:54.601146",
          "start_time": "2017-09-22T15:48:54.594212"
        },
        "id": "yoS2akS6fA3A",
        "outputId": "7531cbf3-96b5-4dcd-b8c0-b26d144d2d14",
        "colab": {
          "base_uri": "https://localhost:8080/"
        }
      },
      "cell_type": "code",
      "source": [
        "model = Model()\n",
        "print(model)"
      ],
      "execution_count": 5,
      "outputs": [
        {
          "output_type": "stream",
          "name": "stdout",
          "text": [
            "Model(\n",
            "  (conv): Conv2d(3, 3, kernel_size=(3, 2), stride=(1, 1))\n",
            "  (relu): ReLU()\n",
            "  (conv2): Conv2d(3, 4, kernel_size=(3, 3), stride=(1, 1))\n",
            "  (max_pool): MaxPool2d(kernel_size=(2, 2), stride=(2, 2), padding=0, dilation=1, ceil_mode=False)\n",
            "  (dense): Linear(in_features=4, out_features=1, bias=True)\n",
            "  (sigmoid): Sigmoid()\n",
            ")\n"
          ]
        }
      ]
    },
    {
      "metadata": {
        "id": "_-Dat633fA3E"
      },
      "cell_type": "markdown",
      "source": [
        "### Outro modelo encapsulando as camadas em uma *Sequential*"
      ]
    },
    {
      "metadata": {
        "ExecuteTime": {
          "end_time": "2017-09-22T15:48:54.622689",
          "start_time": "2017-09-22T15:48:54.603358"
        },
        "id": "PlBI12zWfA3E"
      },
      "cell_type": "code",
      "source": [
        "class Model2(nn.Module):\n",
        "\n",
        "    # Definição de Modules que serão utilizados na rede\n",
        "    def __init__(self):\n",
        "        super(Model2, self).__init__()\n",
        "        \n",
        "        # camada convolucional\n",
        "        self.cnn = nn.Sequential(OrderedDict([\n",
        "            ('conv', nn.Conv2d(1, 3, (2, 2), padding=0, bias=True)),\n",
        "            ('relu', nn.ReLU()),\n",
        "            ('max_pool', nn.MaxPool2d((2, 2)))\n",
        "        ]))\n",
        "        \n",
        "        # camada densa\n",
        "        self.dense = nn.Sequential(OrderedDict([\n",
        "            ('dense', nn.Linear(3*4, 1, bias=True)),\n",
        "            ('sigmoid', nn.Sigmoid())\n",
        "        ]))\n",
        "\n",
        "    # Método de definição obrigatória\n",
        "    # Sequencia que será efetivamente executada para obter a saída da rede\n",
        "    def forward(self, x):\n",
        "        # passa os dados pela camada convolucional\n",
        "        x = self.cnn(x)\n",
        "        # faz o flatten dos dados\n",
        "        x = x.view(-1, 4)\n",
        "        # passa os dados pela camada densa\n",
        "        x = self.dense(x) \n",
        "        \n",
        "        return x"
      ],
      "execution_count": 6,
      "outputs": []
    },
    {
      "metadata": {
        "ExecuteTime": {
          "end_time": "2017-09-22T15:48:54.628946",
          "start_time": "2017-09-22T15:48:54.624518"
        },
        "id": "fM_iXnpEfA3H",
        "outputId": "b08e47bb-6f10-46a6-ff19-713b1e2431ef",
        "colab": {
          "base_uri": "https://localhost:8080/"
        }
      },
      "cell_type": "code",
      "source": [
        "model2 = Model2()\n",
        "print(model2)"
      ],
      "execution_count": 7,
      "outputs": [
        {
          "output_type": "stream",
          "name": "stdout",
          "text": [
            "Model2(\n",
            "  (cnn): Sequential(\n",
            "    (conv): Conv2d(1, 3, kernel_size=(2, 2), stride=(1, 1))\n",
            "    (relu): ReLU()\n",
            "    (max_pool): MaxPool2d(kernel_size=(2, 2), stride=(2, 2), padding=0, dilation=1, ceil_mode=False)\n",
            "  )\n",
            "  (dense): Sequential(\n",
            "    (dense): Linear(in_features=12, out_features=1, bias=True)\n",
            "    (sigmoid): Sigmoid()\n",
            "  )\n",
            ")\n"
          ]
        }
      ]
    },
    {
      "metadata": {
        "id": "Ylc9k5IWfA3L"
      },
      "cell_type": "markdown",
      "source": [
        "## Criação dos parâmetros da rede"
      ]
    },
    {
      "metadata": {
        "ExecuteTime": {
          "end_time": "2017-09-22T16:12:16.773142",
          "start_time": "2017-09-22T16:12:16.769216"
        },
        "id": "PEb0xS49fA3M"
      },
      "cell_type": "markdown",
      "source": [
        "Neste exemplo não haverá treinamento, iremos inicializar os parâmetros da rede com valores conhecidos, de acordo com a figura."
      ]
    },
    {
      "metadata": {
        "id": "OU9p-RFafA3N"
      },
      "cell_type": "markdown",
      "source": [
        "### Kernel da convolução"
      ]
    },
    {
      "metadata": {
        "ExecuteTime": {
          "end_time": "2017-09-22T16:12:56.240637",
          "start_time": "2017-09-22T16:12:56.234812"
        },
        "id": "uPgRkzHVfA3O"
      },
      "cell_type": "code",
      "source": [
        "# número de filtros\n",
        "n_filters = 3    \n",
        "\n",
        "# comprimento e largura dos filtros\n",
        "k_height = 3\n",
        "k_width = 2 \n",
        "kernel_shape = (k_height, k_width)\n",
        "\n",
        "W_conv = np.array([[[1,2],\n",
        "                    [3,4],\n",
        "                    [1,1]],\n",
        "                  [[5,6],\n",
        "                   [7,8],\n",
        "                   [1,1]],\n",
        "                  [[9,10],\n",
        "                   [11,12],\n",
        "                   [1,1]],\n",
        "                  [[1,2],\n",
        "                    [3,4],\n",
        "                    [1,1]],\n",
        "                  [[5,6],\n",
        "                   [7,8],\n",
        "                   [1,1]],\n",
        "                  [[9,10],\n",
        "                   [11,12],\n",
        "                   [1,1]],\n",
        "                  [[1,2],\n",
        "                    [3,4],\n",
        "                    [1,1]],\n",
        "                  [[5,6],\n",
        "                   [7,8],\n",
        "                   [1,1]],\n",
        "                  [[9,10],\n",
        "                   [11,12],\n",
        "                   [1,1]]]).reshape(n_filters,3,k_height,k_width)"
      ],
      "execution_count": 8,
      "outputs": []
    },
    {
      "metadata": {
        "id": "TsRn6dT6rtqs"
      },
      "cell_type": "code",
      "source": [
        "# número de filtros   \n",
        "\n",
        "# comprimento e largura dos filtros\n",
        "k_height = 3\n",
        "k_width = 3\n",
        "kernel_shape = (k_height, k_width)\n",
        "\n",
        "W_conv2 = np.array([[[1,2, 1],\n",
        "                    [3,4,1],\n",
        "                    [1,1,1]],\n",
        "                  [[5,6,1],\n",
        "                   [7,8,1],\n",
        "                   [1,1,1]],\n",
        "                  [[9,10,1],\n",
        "                   [11,12,1],\n",
        "                   [1,1,1]],\n",
        "                  [[1,2,1],\n",
        "                    [3,4,1],\n",
        "                    [1,1,1]],\n",
        "                  [[5,6,1],\n",
        "                   [7,8,1],\n",
        "                   [1,1,1]],\n",
        "                  [[9,10,1],\n",
        "                   [11,12,1],\n",
        "                   [1,1,1]],\n",
        "                  [[1,2,1],\n",
        "                    [3,4,1],\n",
        "                    [1,1,1]],\n",
        "                  [[5,6,1],\n",
        "                   [7,8,1],\n",
        "                   [1,1,1]],\n",
        "                  [[9,10,1],\n",
        "                   [11,12,1],\n",
        "                   [1,1,1]],\n",
        "                   [[1,2,1],\n",
        "                    [3,4,1],\n",
        "                    [1,1,1]],\n",
        "                  [[5,6,1],\n",
        "                   [7,8,1],\n",
        "                   [1,1,1]],\n",
        "                  [[9,10,1],\n",
        "                   [11,12,1],\n",
        "                   [1,1,1]]]).reshape(4,3,k_height,k_width)"
      ],
      "execution_count": 9,
      "outputs": []
    },
    {
      "metadata": {
        "id": "37JA2CpvfA3Q"
      },
      "cell_type": "markdown",
      "source": [
        "### Bias da Convolução"
      ]
    },
    {
      "metadata": {
        "ExecuteTime": {
          "end_time": "2017-09-22T15:48:54.652874",
          "start_time": "2017-09-22T15:48:54.647123"
        },
        "id": "AaTeoi50fA3R",
        "outputId": "817a220b-51db-4ba4-9b7d-4df7645d53ae",
        "colab": {
          "base_uri": "https://localhost:8080/"
        }
      },
      "cell_type": "code",
      "source": [
        "# valor de bias\n",
        "f_bias = 0.1     \n",
        "bias_conv = np.arange(1,3+1) * f_bias\n",
        "print(\"Bias da convolução:\",bias_conv)"
      ],
      "execution_count": 10,
      "outputs": [
        {
          "output_type": "stream",
          "name": "stdout",
          "text": [
            "Bias da convolução: [0.1 0.2 0.3]\n"
          ]
        }
      ]
    },
    {
      "metadata": {
        "id": "wNtJ7QBRsRCF",
        "colab": {
          "base_uri": "https://localhost:8080/"
        },
        "outputId": "835d1ba0-f398-4490-890c-c47696d83230"
      },
      "cell_type": "code",
      "source": [
        "# valor de bias\n",
        "f_bias = 0.1     \n",
        "bias_conv2 = np.arange(1,4+1) * f_bias\n",
        "print(\"Bias da convolução:\",bias_conv2)"
      ],
      "execution_count": 11,
      "outputs": [
        {
          "output_type": "stream",
          "name": "stdout",
          "text": [
            "Bias da convolução: [0.1 0.2 0.3 0.4]\n"
          ]
        }
      ]
    },
    {
      "metadata": {
        "id": "7GsBaL_-fA3U"
      },
      "cell_type": "markdown",
      "source": [
        "### Pesos para a camada densa"
      ]
    },
    {
      "metadata": {
        "ExecuteTime": {
          "end_time": "2017-09-22T15:48:54.660339",
          "start_time": "2017-09-22T15:48:54.655192"
        },
        "id": "G7NjBugZfA3V",
        "outputId": "9ed6c3cd-00a5-4e97-90fa-4a320b7afc0c",
        "colab": {
          "base_uri": "https://localhost:8080/"
        }
      },
      "cell_type": "code",
      "source": [
        "# após o max pooling, são 3 imagens 2x2 = 12\n",
        "W_dense = np.arange(4).reshape(1, 4)\n",
        "print(\"Pesos da camada densa:\\n\",W_dense)"
      ],
      "execution_count": 12,
      "outputs": [
        {
          "output_type": "stream",
          "name": "stdout",
          "text": [
            "Pesos da camada densa:\n",
            " [[0 1 2 3]]\n"
          ]
        }
      ]
    },
    {
      "metadata": {
        "id": "-AVmUzgRfA3b"
      },
      "cell_type": "markdown",
      "source": [
        "### Bias para a camada densa"
      ]
    },
    {
      "metadata": {
        "ExecuteTime": {
          "end_time": "2017-09-22T15:48:54.667299",
          "start_time": "2017-09-22T15:48:54.662230"
        },
        "id": "KQehhruPfA3d",
        "outputId": "b9e29d9b-b965-452a-b170-46739eb9e97e",
        "colab": {
          "base_uri": "https://localhost:8080/"
        }
      },
      "cell_type": "code",
      "source": [
        "bias_dense = np.ones(1) * f_bias\n",
        "print(\"Bias da camanda densa:\",bias_dense)"
      ],
      "execution_count": 13,
      "outputs": [
        {
          "output_type": "stream",
          "name": "stdout",
          "text": [
            "Bias da camanda densa: [0.1]\n"
          ]
        }
      ]
    },
    {
      "metadata": {
        "id": "Za53L7rEfA3h"
      },
      "cell_type": "markdown",
      "source": [
        "### Sumário do shape dos parâmetros"
      ]
    },
    {
      "metadata": {
        "ExecuteTime": {
          "end_time": "2017-09-22T16:15:57.110086",
          "start_time": "2017-09-22T16:15:57.102360"
        },
        "id": "RhEPSt-qfA3j",
        "outputId": "2767804f-acfe-4f5b-e44e-233323ba2697",
        "colab": {
          "base_uri": "https://localhost:8080/",
          "height": 144
        }
      },
      "cell_type": "code",
      "source": [
        "# Mostra o shape dos pesos das camadas\n",
        "display(HTML('<h3>Shape dos pesos</h3>'))\n",
        "print('{:11} {}'.format('W_conv:', W_conv.shape))\n",
        "print('{:11} {}'.format('bias_conv:', bias_conv.shape))\n",
        "print('{:11} {}'.format('W_dense:', W_dense.shape))\n",
        "print('{:11} {}'.format('bias_dense:', bias_dense.shape))\n",
        "print()"
      ],
      "execution_count": 14,
      "outputs": [
        {
          "output_type": "display_data",
          "data": {
            "text/plain": [
              "<IPython.core.display.HTML object>"
            ],
            "text/html": [
              "<h3>Shape dos pesos</h3>"
            ]
          },
          "metadata": {}
        },
        {
          "output_type": "stream",
          "name": "stdout",
          "text": [
            "W_conv:     (3, 3, 3, 2)\n",
            "bias_conv:  (3,)\n",
            "W_dense:    (1, 4)\n",
            "bias_dense: (1,)\n",
            "\n"
          ]
        }
      ]
    },
    {
      "metadata": {
        "id": "n3EUgQGYfA3o"
      },
      "cell_type": "markdown",
      "source": [
        "## Criação da rede model e carregamento dos pesos (parâmetros)"
      ]
    },
    {
      "metadata": {
        "ExecuteTime": {
          "end_time": "2017-09-22T16:17:48.373488",
          "start_time": "2017-09-22T16:17:48.366575"
        },
        "id": "b4t34FCkfA3p",
        "colab": {
          "base_uri": "https://localhost:8080/"
        },
        "outputId": "5653451f-97e2-47bc-fdb4-589885ed9476"
      },
      "cell_type": "code",
      "source": [
        "# cria o modelo\n",
        "model = Model()\n",
        "\n",
        "# Dicionário com os pesos para a rede\n",
        "my_weights = OrderedDict([\n",
        "    ('conv.weight',  torch.FloatTensor(W_conv.astype(float))),\n",
        "    ('conv.bias',    torch.FloatTensor(bias_conv.astype(float))),\n",
        "    ('conv2.weight',  torch.FloatTensor(W_conv2.astype(float))),\n",
        "    ('conv2.bias',    torch.FloatTensor(bias_conv2.astype(float))),\n",
        "    ('dense.weight', torch.FloatTensor( W_dense.astype(float))),\n",
        "    ('dense.bias',   torch.FloatTensor(bias_dense.astype(float))),\n",
        "])\n",
        "\n",
        "# aplica os pesos criados à rede\n",
        "model.load_state_dict(my_weights)"
      ],
      "execution_count": 15,
      "outputs": [
        {
          "output_type": "execute_result",
          "data": {
            "text/plain": [
              "<All keys matched successfully>"
            ]
          },
          "metadata": {},
          "execution_count": 15
        }
      ]
    },
    {
      "metadata": {
        "id": "EQ9lAJwgfA3t"
      },
      "cell_type": "markdown",
      "source": [
        "### Visualização dos pesos da rede na forma de dicionário"
      ]
    },
    {
      "metadata": {
        "ExecuteTime": {
          "end_time": "2017-09-22T16:18:19.467573",
          "start_time": "2017-09-22T16:18:19.461774"
        },
        "id": "Bu317D7afA3u",
        "outputId": "5e317fc4-95c8-4da2-aed7-f0589ac81542",
        "colab": {
          "base_uri": "https://localhost:8080/"
        }
      },
      "cell_type": "code",
      "source": [
        "model.state_dict()"
      ],
      "execution_count": 16,
      "outputs": [
        {
          "output_type": "execute_result",
          "data": {
            "text/plain": [
              "OrderedDict([('conv.weight',\n",
              "              tensor([[[[ 1.,  2.],\n",
              "                        [ 3.,  4.],\n",
              "                        [ 1.,  1.]],\n",
              "              \n",
              "                       [[ 5.,  6.],\n",
              "                        [ 7.,  8.],\n",
              "                        [ 1.,  1.]],\n",
              "              \n",
              "                       [[ 9., 10.],\n",
              "                        [11., 12.],\n",
              "                        [ 1.,  1.]]],\n",
              "              \n",
              "              \n",
              "                      [[[ 1.,  2.],\n",
              "                        [ 3.,  4.],\n",
              "                        [ 1.,  1.]],\n",
              "              \n",
              "                       [[ 5.,  6.],\n",
              "                        [ 7.,  8.],\n",
              "                        [ 1.,  1.]],\n",
              "              \n",
              "                       [[ 9., 10.],\n",
              "                        [11., 12.],\n",
              "                        [ 1.,  1.]]],\n",
              "              \n",
              "              \n",
              "                      [[[ 1.,  2.],\n",
              "                        [ 3.,  4.],\n",
              "                        [ 1.,  1.]],\n",
              "              \n",
              "                       [[ 5.,  6.],\n",
              "                        [ 7.,  8.],\n",
              "                        [ 1.,  1.]],\n",
              "              \n",
              "                       [[ 9., 10.],\n",
              "                        [11., 12.],\n",
              "                        [ 1.,  1.]]]])),\n",
              "             ('conv.bias', tensor([0.1000, 0.2000, 0.3000])),\n",
              "             ('conv2.weight',\n",
              "              tensor([[[[ 1.,  2.,  1.],\n",
              "                        [ 3.,  4.,  1.],\n",
              "                        [ 1.,  1.,  1.]],\n",
              "              \n",
              "                       [[ 5.,  6.,  1.],\n",
              "                        [ 7.,  8.,  1.],\n",
              "                        [ 1.,  1.,  1.]],\n",
              "              \n",
              "                       [[ 9., 10.,  1.],\n",
              "                        [11., 12.,  1.],\n",
              "                        [ 1.,  1.,  1.]]],\n",
              "              \n",
              "              \n",
              "                      [[[ 1.,  2.,  1.],\n",
              "                        [ 3.,  4.,  1.],\n",
              "                        [ 1.,  1.,  1.]],\n",
              "              \n",
              "                       [[ 5.,  6.,  1.],\n",
              "                        [ 7.,  8.,  1.],\n",
              "                        [ 1.,  1.,  1.]],\n",
              "              \n",
              "                       [[ 9., 10.,  1.],\n",
              "                        [11., 12.,  1.],\n",
              "                        [ 1.,  1.,  1.]]],\n",
              "              \n",
              "              \n",
              "                      [[[ 1.,  2.,  1.],\n",
              "                        [ 3.,  4.,  1.],\n",
              "                        [ 1.,  1.,  1.]],\n",
              "              \n",
              "                       [[ 5.,  6.,  1.],\n",
              "                        [ 7.,  8.,  1.],\n",
              "                        [ 1.,  1.,  1.]],\n",
              "              \n",
              "                       [[ 9., 10.,  1.],\n",
              "                        [11., 12.,  1.],\n",
              "                        [ 1.,  1.,  1.]]],\n",
              "              \n",
              "              \n",
              "                      [[[ 1.,  2.,  1.],\n",
              "                        [ 3.,  4.,  1.],\n",
              "                        [ 1.,  1.,  1.]],\n",
              "              \n",
              "                       [[ 5.,  6.,  1.],\n",
              "                        [ 7.,  8.,  1.],\n",
              "                        [ 1.,  1.,  1.]],\n",
              "              \n",
              "                       [[ 9., 10.,  1.],\n",
              "                        [11., 12.,  1.],\n",
              "                        [ 1.,  1.,  1.]]]])),\n",
              "             ('conv2.bias', tensor([0.1000, 0.2000, 0.3000, 0.4000])),\n",
              "             ('dense.weight', tensor([[0., 1., 2., 3.]])),\n",
              "             ('dense.bias', tensor([0.1000]))])"
            ]
          },
          "metadata": {},
          "execution_count": 16
        }
      ]
    },
    {
      "metadata": {
        "id": "4KR_gIiyfA3x"
      },
      "cell_type": "markdown",
      "source": [
        "### Visualização dos pesos da rede na forma de tensores"
      ]
    },
    {
      "metadata": {
        "ExecuteTime": {
          "end_time": "2017-09-22T16:19:26.088281",
          "start_time": "2017-09-22T16:19:26.075863"
        },
        "id": "wtVIGkjGfA3y",
        "outputId": "d8ebece1-0ec5-43ff-b3ab-2c33f4ff46d9",
        "colab": {
          "base_uri": "https://localhost:8080/",
          "height": 1000
        }
      },
      "cell_type": "code",
      "source": [
        "for W_name, W in model.state_dict().items():\n",
        "    display(HTML('<h4>{}</h4>'.format(W_name)))\n",
        "    print(W)"
      ],
      "execution_count": 17,
      "outputs": [
        {
          "output_type": "display_data",
          "data": {
            "text/plain": [
              "<IPython.core.display.HTML object>"
            ],
            "text/html": [
              "<h4>conv.weight</h4>"
            ]
          },
          "metadata": {}
        },
        {
          "output_type": "stream",
          "name": "stdout",
          "text": [
            "tensor([[[[ 1.,  2.],\n",
            "          [ 3.,  4.],\n",
            "          [ 1.,  1.]],\n",
            "\n",
            "         [[ 5.,  6.],\n",
            "          [ 7.,  8.],\n",
            "          [ 1.,  1.]],\n",
            "\n",
            "         [[ 9., 10.],\n",
            "          [11., 12.],\n",
            "          [ 1.,  1.]]],\n",
            "\n",
            "\n",
            "        [[[ 1.,  2.],\n",
            "          [ 3.,  4.],\n",
            "          [ 1.,  1.]],\n",
            "\n",
            "         [[ 5.,  6.],\n",
            "          [ 7.,  8.],\n",
            "          [ 1.,  1.]],\n",
            "\n",
            "         [[ 9., 10.],\n",
            "          [11., 12.],\n",
            "          [ 1.,  1.]]],\n",
            "\n",
            "\n",
            "        [[[ 1.,  2.],\n",
            "          [ 3.,  4.],\n",
            "          [ 1.,  1.]],\n",
            "\n",
            "         [[ 5.,  6.],\n",
            "          [ 7.,  8.],\n",
            "          [ 1.,  1.]],\n",
            "\n",
            "         [[ 9., 10.],\n",
            "          [11., 12.],\n",
            "          [ 1.,  1.]]]])\n"
          ]
        },
        {
          "output_type": "display_data",
          "data": {
            "text/plain": [
              "<IPython.core.display.HTML object>"
            ],
            "text/html": [
              "<h4>conv.bias</h4>"
            ]
          },
          "metadata": {}
        },
        {
          "output_type": "stream",
          "name": "stdout",
          "text": [
            "tensor([0.1000, 0.2000, 0.3000])\n"
          ]
        },
        {
          "output_type": "display_data",
          "data": {
            "text/plain": [
              "<IPython.core.display.HTML object>"
            ],
            "text/html": [
              "<h4>conv2.weight</h4>"
            ]
          },
          "metadata": {}
        },
        {
          "output_type": "stream",
          "name": "stdout",
          "text": [
            "tensor([[[[ 1.,  2.,  1.],\n",
            "          [ 3.,  4.,  1.],\n",
            "          [ 1.,  1.,  1.]],\n",
            "\n",
            "         [[ 5.,  6.,  1.],\n",
            "          [ 7.,  8.,  1.],\n",
            "          [ 1.,  1.,  1.]],\n",
            "\n",
            "         [[ 9., 10.,  1.],\n",
            "          [11., 12.,  1.],\n",
            "          [ 1.,  1.,  1.]]],\n",
            "\n",
            "\n",
            "        [[[ 1.,  2.,  1.],\n",
            "          [ 3.,  4.,  1.],\n",
            "          [ 1.,  1.,  1.]],\n",
            "\n",
            "         [[ 5.,  6.,  1.],\n",
            "          [ 7.,  8.,  1.],\n",
            "          [ 1.,  1.,  1.]],\n",
            "\n",
            "         [[ 9., 10.,  1.],\n",
            "          [11., 12.,  1.],\n",
            "          [ 1.,  1.,  1.]]],\n",
            "\n",
            "\n",
            "        [[[ 1.,  2.,  1.],\n",
            "          [ 3.,  4.,  1.],\n",
            "          [ 1.,  1.,  1.]],\n",
            "\n",
            "         [[ 5.,  6.,  1.],\n",
            "          [ 7.,  8.,  1.],\n",
            "          [ 1.,  1.,  1.]],\n",
            "\n",
            "         [[ 9., 10.,  1.],\n",
            "          [11., 12.,  1.],\n",
            "          [ 1.,  1.,  1.]]],\n",
            "\n",
            "\n",
            "        [[[ 1.,  2.,  1.],\n",
            "          [ 3.,  4.,  1.],\n",
            "          [ 1.,  1.,  1.]],\n",
            "\n",
            "         [[ 5.,  6.,  1.],\n",
            "          [ 7.,  8.,  1.],\n",
            "          [ 1.,  1.,  1.]],\n",
            "\n",
            "         [[ 9., 10.,  1.],\n",
            "          [11., 12.,  1.],\n",
            "          [ 1.,  1.,  1.]]]])\n"
          ]
        },
        {
          "output_type": "display_data",
          "data": {
            "text/plain": [
              "<IPython.core.display.HTML object>"
            ],
            "text/html": [
              "<h4>conv2.bias</h4>"
            ]
          },
          "metadata": {}
        },
        {
          "output_type": "stream",
          "name": "stdout",
          "text": [
            "tensor([0.1000, 0.2000, 0.3000, 0.4000])\n"
          ]
        },
        {
          "output_type": "display_data",
          "data": {
            "text/plain": [
              "<IPython.core.display.HTML object>"
            ],
            "text/html": [
              "<h4>dense.weight</h4>"
            ]
          },
          "metadata": {}
        },
        {
          "output_type": "stream",
          "name": "stdout",
          "text": [
            "tensor([[0., 1., 2., 3.]])\n"
          ]
        },
        {
          "output_type": "display_data",
          "data": {
            "text/plain": [
              "<IPython.core.display.HTML object>"
            ],
            "text/html": [
              "<h4>dense.bias</h4>"
            ]
          },
          "metadata": {}
        },
        {
          "output_type": "stream",
          "name": "stdout",
          "text": [
            "tensor([0.1000])\n"
          ]
        }
      ]
    },
    {
      "metadata": {
        "id": "dx_KiySlfA32"
      },
      "cell_type": "markdown",
      "source": [
        "## Predição da Rede e Visualização dos tensores em cada camada"
      ]
    },
    {
      "metadata": {
        "id": "6rmCIXgWfA33"
      },
      "cell_type": "markdown",
      "source": [
        "### Imagem de Entrada: Variable (1,1,5,6) uma amostra, um canal, 5 linhas e 6 colunas"
      ]
    },
    {
      "metadata": {
        "ExecuteTime": {
          "end_time": "2017-09-22T16:23:30.485030",
          "start_time": "2017-09-22T16:23:30.474026"
        },
        "id": "kQokRf7LfA34",
        "outputId": "dd17444a-b098-4119-d75e-67ba6b1aaad3",
        "colab": {
          "base_uri": "https://localhost:8080/",
          "height": 441
        }
      },
      "cell_type": "code",
      "source": [
        "X = np.array([[[[0,0,0,0, 0,0],\n",
        "                [0,0,1,0, 0,0],\n",
        "                [0,0,0,0, 0,0],\n",
        "                [0,0,0,0,-1,0],\n",
        "                [0,0,0,0, 0,0],\n",
        "                [0,0,0,0, 0,0]],\n",
        "              [[0,0,0,0, 0,0],\n",
        "                [0,0,1,0, 0,0],\n",
        "                [0,0,0,0, 0,0],\n",
        "                [0,0,0,0,-1,0],\n",
        "                [0,0,0,0, 0,0],\n",
        "                [0,0,0,0, 0,0]],\n",
        "              [[0,0,0,0, 0,0],\n",
        "                [0,0,1,0, 0,0],\n",
        "                [0,0,0,0, 0,0],\n",
        "                [0,0,0,0,-1,0],\n",
        "                [0,0,0,0, 0,0],\n",
        "                [0,0,0,0, 0,0]]]])\n",
        "\n",
        "display(HTML('<h3>Entrada na rede</h3>'))\n",
        "display(HTML('<h4>X</h4>'))\n",
        "X_tensor = torch.from_numpy(X).type(torch.FloatTensor)\n",
        "X_var = Variable (X_tensor)\n",
        "print(X_var)"
      ],
      "execution_count": 18,
      "outputs": [
        {
          "output_type": "display_data",
          "data": {
            "text/plain": [
              "<IPython.core.display.HTML object>"
            ],
            "text/html": [
              "<h3>Entrada na rede</h3>"
            ]
          },
          "metadata": {}
        },
        {
          "output_type": "display_data",
          "data": {
            "text/plain": [
              "<IPython.core.display.HTML object>"
            ],
            "text/html": [
              "<h4>X</h4>"
            ]
          },
          "metadata": {}
        },
        {
          "output_type": "stream",
          "name": "stdout",
          "text": [
            "tensor([[[[ 0.,  0.,  0.,  0.,  0.,  0.],\n",
            "          [ 0.,  0.,  1.,  0.,  0.,  0.],\n",
            "          [ 0.,  0.,  0.,  0.,  0.,  0.],\n",
            "          [ 0.,  0.,  0.,  0., -1.,  0.],\n",
            "          [ 0.,  0.,  0.,  0.,  0.,  0.],\n",
            "          [ 0.,  0.,  0.,  0.,  0.,  0.]],\n",
            "\n",
            "         [[ 0.,  0.,  0.,  0.,  0.,  0.],\n",
            "          [ 0.,  0.,  1.,  0.,  0.,  0.],\n",
            "          [ 0.,  0.,  0.,  0.,  0.,  0.],\n",
            "          [ 0.,  0.,  0.,  0., -1.,  0.],\n",
            "          [ 0.,  0.,  0.,  0.,  0.,  0.],\n",
            "          [ 0.,  0.,  0.,  0.,  0.,  0.]],\n",
            "\n",
            "         [[ 0.,  0.,  0.,  0.,  0.,  0.],\n",
            "          [ 0.,  0.,  1.,  0.,  0.,  0.],\n",
            "          [ 0.,  0.,  0.,  0.,  0.,  0.],\n",
            "          [ 0.,  0.,  0.,  0., -1.,  0.],\n",
            "          [ 0.,  0.,  0.,  0.,  0.,  0.],\n",
            "          [ 0.,  0.,  0.,  0.,  0.,  0.]]]])\n"
          ]
        }
      ]
    },
    {
      "metadata": {
        "id": "dEAEWQTBfA39"
      },
      "cell_type": "markdown",
      "source": [
        "## Predição"
      ]
    },
    {
      "metadata": {
        "id": "FH4F5nGOfA3-",
        "colab": {
          "base_uri": "https://localhost:8080/"
        },
        "outputId": "130886cb-eb12-40db-e393-190b164c9056"
      },
      "cell_type": "code",
      "source": [
        "y_pred = model.modules_output(X_var)"
      ],
      "execution_count": 19,
      "outputs": [
        {
          "output_type": "stream",
          "name": "stdout",
          "text": [
            "torch.Size([1, 4, 1, 1])\n"
          ]
        }
      ]
    },
    {
      "metadata": {
        "id": "RY16Z6T8fA4B"
      },
      "cell_type": "markdown",
      "source": [
        "### Mostra as saídas de cada camada da rede"
      ]
    },
    {
      "metadata": {
        "ExecuteTime": {
          "end_time": "2017-09-22T16:24:56.131754",
          "start_time": "2017-09-22T16:24:56.112714"
        },
        "scrolled": false,
        "id": "WJ241C9LfA4C",
        "outputId": "bd83acb1-254b-4e5f-a757-d3c9d5dddcbe",
        "colab": {
          "base_uri": "https://localhost:8080/",
          "height": 1000
        }
      },
      "cell_type": "code",
      "source": [
        "display(HTML('<h3>Saídas de cada camada da rede</h3>'))\n",
        "\n",
        "# Visualização do tensor na saída de cada camada\n",
        "for module_name, output in y_pred.items():\n",
        "    display(HTML('<h4>{}</h4>'.format(module_name)))\n",
        "    print(output)"
      ],
      "execution_count": 20,
      "outputs": [
        {
          "output_type": "display_data",
          "data": {
            "text/plain": [
              "<IPython.core.display.HTML object>"
            ],
            "text/html": [
              "<h3>Saídas de cada camada da rede</h3>"
            ]
          },
          "metadata": {}
        },
        {
          "output_type": "display_data",
          "data": {
            "text/plain": [
              "<IPython.core.display.HTML object>"
            ],
            "text/html": [
              "<h4>conv</h4>"
            ]
          },
          "metadata": {}
        },
        {
          "output_type": "stream",
          "name": "stdout",
          "text": [
            "tensor([[[[  0.1000,  24.1000,  21.1000,   0.1000,   0.1000],\n",
            "          [  0.1000,  18.1000,  15.1000,  -2.9000,  -2.9000],\n",
            "          [  0.1000,   0.1000,   0.1000, -23.9000, -20.9000],\n",
            "          [  0.1000,   0.1000,   0.1000, -17.9000, -14.9000]],\n",
            "\n",
            "         [[  0.2000,  24.2000,  21.2000,   0.2000,   0.2000],\n",
            "          [  0.2000,  18.2000,  15.2000,  -2.8000,  -2.8000],\n",
            "          [  0.2000,   0.2000,   0.2000, -23.8000, -20.8000],\n",
            "          [  0.2000,   0.2000,   0.2000, -17.8000, -14.8000]],\n",
            "\n",
            "         [[  0.3000,  24.3000,  21.3000,   0.3000,   0.3000],\n",
            "          [  0.3000,  18.3000,  15.3000,  -2.7000,  -2.7000],\n",
            "          [  0.3000,   0.3000,   0.3000, -23.7000, -20.7000],\n",
            "          [  0.3000,   0.3000,   0.3000, -17.7000, -14.7000]]]],\n",
            "       grad_fn=<ConvolutionBackward0>)\n"
          ]
        },
        {
          "output_type": "display_data",
          "data": {
            "text/plain": [
              "<IPython.core.display.HTML object>"
            ],
            "text/html": [
              "<h4>relu</h4>"
            ]
          },
          "metadata": {}
        },
        {
          "output_type": "stream",
          "name": "stdout",
          "text": [
            "tensor([[[[ 0.1000, 24.1000, 21.1000,  0.1000,  0.1000],\n",
            "          [ 0.1000, 18.1000, 15.1000,  0.0000,  0.0000],\n",
            "          [ 0.1000,  0.1000,  0.1000,  0.0000,  0.0000],\n",
            "          [ 0.1000,  0.1000,  0.1000,  0.0000,  0.0000]],\n",
            "\n",
            "         [[ 0.2000, 24.2000, 21.2000,  0.2000,  0.2000],\n",
            "          [ 0.2000, 18.2000, 15.2000,  0.0000,  0.0000],\n",
            "          [ 0.2000,  0.2000,  0.2000,  0.0000,  0.0000],\n",
            "          [ 0.2000,  0.2000,  0.2000,  0.0000,  0.0000]],\n",
            "\n",
            "         [[ 0.3000, 24.3000, 21.3000,  0.3000,  0.3000],\n",
            "          [ 0.3000, 18.3000, 15.3000,  0.0000,  0.0000],\n",
            "          [ 0.3000,  0.3000,  0.3000,  0.0000,  0.0000],\n",
            "          [ 0.3000,  0.3000,  0.3000,  0.0000,  0.0000]]]],\n",
            "       grad_fn=<ReluBackward0>)\n"
          ]
        },
        {
          "output_type": "display_data",
          "data": {
            "text/plain": [
              "<IPython.core.display.HTML object>"
            ],
            "text/html": [
              "<h4>conv2</h4>"
            ]
          },
          "metadata": {}
        },
        {
          "output_type": "stream",
          "name": "stdout",
          "text": [
            "tensor([[[[ 993.8998, 1496.6998,  644.4999],\n",
            "          [ 390.9000,  560.1000,  234.5000]],\n",
            "\n",
            "         [[ 993.9999, 1496.7998,  644.5999],\n",
            "          [ 391.0000,  560.2000,  234.6000]],\n",
            "\n",
            "         [[ 994.0999, 1496.8999,  644.6999],\n",
            "          [ 391.1000,  560.3000,  234.7000]],\n",
            "\n",
            "         [[ 994.1999, 1496.9999,  644.7999],\n",
            "          [ 391.2000,  560.4000,  234.8000]]]], grad_fn=<ConvolutionBackward0>)\n"
          ]
        },
        {
          "output_type": "display_data",
          "data": {
            "text/plain": [
              "<IPython.core.display.HTML object>"
            ],
            "text/html": [
              "<h4>max_pool</h4>"
            ]
          },
          "metadata": {}
        },
        {
          "output_type": "stream",
          "name": "stdout",
          "text": [
            "tensor([[[[1496.6998]],\n",
            "\n",
            "         [[1496.7998]],\n",
            "\n",
            "         [[1496.8999]],\n",
            "\n",
            "         [[1496.9999]]]], grad_fn=<MaxPool2DWithIndicesBackward0>)\n"
          ]
        },
        {
          "output_type": "display_data",
          "data": {
            "text/plain": [
              "<IPython.core.display.HTML object>"
            ],
            "text/html": [
              "<h4>flatten</h4>"
            ]
          },
          "metadata": {}
        },
        {
          "output_type": "stream",
          "name": "stdout",
          "text": [
            "tensor([[1496.6998, 1496.7998, 1496.8999, 1496.9999]], grad_fn=<ViewBackward0>)\n"
          ]
        },
        {
          "output_type": "display_data",
          "data": {
            "text/plain": [
              "<IPython.core.display.HTML object>"
            ],
            "text/html": [
              "<h4>dense</h4>"
            ]
          },
          "metadata": {}
        },
        {
          "output_type": "stream",
          "name": "stdout",
          "text": [
            "tensor([[8981.6992]], grad_fn=<AddmmBackward0>)\n"
          ]
        },
        {
          "output_type": "display_data",
          "data": {
            "text/plain": [
              "<IPython.core.display.HTML object>"
            ],
            "text/html": [
              "<h4>sigmoid</h4>"
            ]
          },
          "metadata": {}
        },
        {
          "output_type": "stream",
          "name": "stdout",
          "text": [
            "tensor([[1.]], grad_fn=<SigmoidBackward0>)\n"
          ]
        }
      ]
    },
    {
      "metadata": {
        "id": "HcFRnmtpfA4F"
      },
      "cell_type": "markdown",
      "source": [
        "# Atividades\n",
        "\n",
        "1. Quais as vantagens de utilizar Sequential na definição do modelo?\n",
        "2. Como calcular o número de parâmetros da rede?\n",
        "3. Retirar o bias e recalcular o número de parâmetros a serem treinados\n",
        "4. A rede foi projetada para aceitar entrada com shape (1,5,6). Mudar a rede para aceitar:\n",
        "   a) entrada com shape (1,6,6)\n",
        "   b) entrada com shape (3,6,6)\n",
        "5. Inserir mais uma camada convolucional com 4 filtros de saída e kernel (3,3)"
      ]
    },
    {
      "metadata": {
        "id": "QfOnQ23HfA4H"
      },
      "cell_type": "markdown",
      "source": [
        "# Referências\n",
        "\n",
        "- [PyTorch Documentation](http://pytorch.org/docs/master/index.html)\n"
      ]
    },
    {
      "metadata": {
        "id": "74yTaPfMfA4H"
      },
      "cell_type": "markdown",
      "source": [
        "# Aprendizados com este notebook\n"
      ]
    }
  ]
}