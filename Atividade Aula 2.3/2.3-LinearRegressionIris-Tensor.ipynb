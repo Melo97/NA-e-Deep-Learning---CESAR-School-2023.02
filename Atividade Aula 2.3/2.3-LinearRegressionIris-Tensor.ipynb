{
 "cells": [
  {
   "cell_type": "markdown",
   "metadata": {
    "id": "FLBIxJCuhqix"
   },
   "source": [
    "# Exercício Regressão Linear com PyTorch"
   ]
  },
  {
   "cell_type": "markdown",
   "metadata": {
    "ExecuteTime": {
     "end_time": "2017-11-23T20:02:40.968451Z",
     "start_time": "2017-11-23T20:02:40.961876Z"
    },
    "id": "7ifi42Klhqix"
   },
   "source": [
    "O objetivo desse notebook é reescrevê-lo porém utilizando tensores do PyTorch.\n",
    "\n",
    "Os nomes das funções do PyTorch são próximas das funções do Torch original escrito\n",
    "na linguagem Lua, porém não são iguais."
   ]
  },
  {
   "cell_type": "markdown",
   "metadata": {
    "id": "y1KiGNl3hqi0"
   },
   "source": [
    "## Importação dos pacotes"
   ]
  },
  {
   "cell_type": "code",
   "execution_count": 1,
   "metadata": {
    "ExecuteTime": {
     "end_time": "2018-02-04T16:01:57.407205Z",
     "start_time": "2018-02-04T16:01:55.699674Z"
    },
    "id": "AjzEaCTrhqi1"
   },
   "outputs": [],
   "source": [
    "%matplotlib inline\n",
    "import torch\n",
    "\n",
    "import matplotlib.pyplot as plt\n",
    "from sklearn.datasets import load_iris\n",
    "\n",
    "torch.manual_seed(1234)\n",
    "\n",
    "def print_assert(r):\n",
    "    if r:\n",
    "        return 'OK!'\n",
    "    else:\n",
    "        return 'Incorreto!'"
   ]
  },
  {
   "cell_type": "markdown",
   "metadata": {
    "id": "T1KoBM1Khqi4"
   },
   "source": [
    "## Dataset"
   ]
  },
  {
   "cell_type": "markdown",
   "metadata": {
    "id": "8p8NrS7Lhqi5"
   },
   "source": [
    "### Leitura dos dados"
   ]
  },
  {
   "cell_type": "code",
   "execution_count": 2,
   "metadata": {
    "ExecuteTime": {
     "end_time": "2018-02-04T16:01:58.800961Z",
     "start_time": "2018-02-04T16:01:58.778655Z"
    },
    "colab": {
     "base_uri": "https://localhost:8080/",
     "height": 449
    },
    "id": "bz2JpDCChqi6",
    "outputId": "98050bcb-9b86-4a43-b03e-1d145de7e492"
   },
   "outputs": [
    {
     "name": "stdout",
     "output_type": "stream",
     "text": [
      "x_train.shape: torch.Size([50, 1]) <class 'torch.Tensor'>\n",
      "y_train.shape: torch.Size([50, 1]) <class 'torch.Tensor'>\n",
      "x_train[:5]:\n",
      " tensor([[7.0000],\n",
      "        [6.4000],\n",
      "        [6.9000],\n",
      "        [5.5000],\n",
      "        [6.5000]])\n",
      "y_train[:5]:\n",
      " tensor([[4.7000],\n",
      "        [4.5000],\n",
      "        [4.9000],\n",
      "        [4.0000],\n",
      "        [4.6000]])\n"
     ]
    },
    {
     "data": {
      "text/html": [
       "<div>\n",
       "<style scoped>\n",
       "    .dataframe tbody tr th:only-of-type {\n",
       "        vertical-align: middle;\n",
       "    }\n",
       "\n",
       "    .dataframe tbody tr th {\n",
       "        vertical-align: top;\n",
       "    }\n",
       "\n",
       "    .dataframe thead th {\n",
       "        text-align: right;\n",
       "    }\n",
       "</style>\n",
       "<table border=\"1\" class=\"dataframe\">\n",
       "  <thead>\n",
       "    <tr style=\"text-align: right;\">\n",
       "      <th></th>\n",
       "      <th>x_in</th>\n",
       "      <th>y_in</th>\n",
       "    </tr>\n",
       "  </thead>\n",
       "  <tbody>\n",
       "    <tr>\n",
       "      <th>0</th>\n",
       "      <td>7.0</td>\n",
       "      <td>4.7</td>\n",
       "    </tr>\n",
       "    <tr>\n",
       "      <th>1</th>\n",
       "      <td>6.4</td>\n",
       "      <td>4.5</td>\n",
       "    </tr>\n",
       "    <tr>\n",
       "      <th>2</th>\n",
       "      <td>6.9</td>\n",
       "      <td>4.9</td>\n",
       "    </tr>\n",
       "    <tr>\n",
       "      <th>3</th>\n",
       "      <td>5.5</td>\n",
       "      <td>4.0</td>\n",
       "    </tr>\n",
       "    <tr>\n",
       "      <th>4</th>\n",
       "      <td>6.5</td>\n",
       "      <td>4.6</td>\n",
       "    </tr>\n",
       "  </tbody>\n",
       "</table>\n",
       "</div>"
      ],
      "text/plain": [
       "   x_in  y_in\n",
       "0   7.0   4.7\n",
       "1   6.4   4.5\n",
       "2   6.9   4.9\n",
       "3   5.5   4.0\n",
       "4   6.5   4.6"
      ]
     },
     "execution_count": 2,
     "metadata": {},
     "output_type": "execute_result"
    }
   ],
   "source": [
    "import pandas as pd\n",
    "iris = load_iris()\n",
    "data = iris.data[iris.target==1,::2]  # comprimento das sépalas e pétalas, indices 0 e 2\n",
    "\n",
    "x_in = data[:,0:1]\n",
    "y_in = data[:,1:2]\n",
    "\n",
    "x_train = torch.FloatTensor(x_in)\n",
    "y_train = torch.FloatTensor(y_in)\n",
    "\n",
    "n_samples = x_train.size(0)\n",
    "print('x_train.shape:',x_train.shape, type(x_train))\n",
    "print('y_train.shape:',y_train.shape, type(y_train))\n",
    "\n",
    "print('x_train[:5]:\\n', x_train[:5])\n",
    "print('y_train[:5]:\\n', y_train[:5])\n",
    "\n",
    "iris_pd = pd.DataFrame(x_in, columns=['x_in'])\n",
    "iris_pd['y_in'] = y_in\n",
    "iris_pd.head()"
   ]
  },
  {
   "cell_type": "markdown",
   "metadata": {
    "id": "EdDMPH5Ehqi_"
   },
   "source": [
    "### Normalização dos dados"
   ]
  },
  {
   "cell_type": "code",
   "execution_count": 3,
   "metadata": {
    "ExecuteTime": {
     "end_time": "2018-02-04T16:02:00.272143Z",
     "start_time": "2018-02-04T16:02:00.266943Z"
    },
    "colab": {
     "base_uri": "https://localhost:8080/",
     "height": 466
    },
    "id": "CthUVnEBhqjB",
    "outputId": "be2c0713-a27c-4bc9-ae6b-ef637bfdb28a"
   },
   "outputs": [
    {
     "data": {
      "text/plain": [
       "Text(0, 0.5, 'Comprimento petalas')"
      ]
     },
     "execution_count": 3,
     "metadata": {},
     "output_type": "execute_result"
    },
    {
     "data": {
      "image/png": "[encoded data removed]",
      "text/plain": [
       "<Figure size 640x480 with 1 Axes>"
      ]
     },
     "metadata": {},
     "output_type": "display_data"
    }
   ],
   "source": [
    "x_train -= x_train.min()\n",
    "x_train /= x_train.max()\n",
    "y_train -= y_train.min()\n",
    "y_train /= y_train.max()\n",
    "\n",
    "plt.scatter(x_train,y_train)\n",
    "plt.xlabel('Comprimento sepalas')\n",
    "plt.ylabel('Comprimento petalas')"
   ]
  },
  {
   "cell_type": "markdown",
   "metadata": {
    "id": "l6bRM0fZhqjD"
   },
   "source": [
    "### Exercício 1 - Criação do `x_train_bias`"
   ]
  },
  {
   "cell_type": "markdown",
   "metadata": {
    "id": "19c3cPARhqjE"
   },
   "source": [
    "faça o `x_train_bias` ser uma matriz com 1s na primeira coluna e x_train na segunda coluna.\n",
    "\n",
    "\n",
    "\n",
    "\n",
    "Dica: você pode precisar da função [torch.cat](http://pytorch.org/docs/master/torch.html#torch.cat) e [torch.ones](http://pytorch.org/docs/master/torch.html#torch.ones)."
   ]
  },
  {
   "cell_type": "code",
   "execution_count": 10,
   "metadata": {
    "collapsed": true,
    "id": "5CiVS_025I_q",
    "jupyter": {
     "outputs_hidden": true
    }
   },
   "outputs": [
    {
     "data": {
      "text/plain": [
       "tensor([[1.0000, 1.0000],\n",
       "        [1.0000, 0.7143],\n",
       "        [1.0000, 0.9524],\n",
       "        [1.0000, 0.2857],\n",
       "        [1.0000, 0.7619],\n",
       "        [1.0000, 0.3810],\n",
       "        [1.0000, 0.6667],\n",
       "        [1.0000, 0.0000],\n",
       "        [1.0000, 0.8095],\n",
       "        [1.0000, 0.1429],\n",
       "        [1.0000, 0.0476],\n",
       "        [1.0000, 0.4762],\n",
       "        [1.0000, 0.5238],\n",
       "        [1.0000, 0.5714],\n",
       "        [1.0000, 0.3333],\n",
       "        [1.0000, 0.8571],\n",
       "        [1.0000, 0.3333],\n",
       "        [1.0000, 0.4286],\n",
       "        [1.0000, 0.6190],\n",
       "        [1.0000, 0.3333],\n",
       "        [1.0000, 0.4762],\n",
       "        [1.0000, 0.5714],\n",
       "        [1.0000, 0.6667],\n",
       "        [1.0000, 0.5714],\n",
       "        [1.0000, 0.7143],\n",
       "        [1.0000, 0.8095],\n",
       "        [1.0000, 0.9048],\n",
       "        [1.0000, 0.8571],\n",
       "        [1.0000, 0.5238],\n",
       "        [1.0000, 0.3810],\n",
       "        [1.0000, 0.2857],\n",
       "        [1.0000, 0.2857],\n",
       "        [1.0000, 0.4286],\n",
       "        [1.0000, 0.5238],\n",
       "        [1.0000, 0.2381],\n",
       "        [1.0000, 0.5238],\n",
       "        [1.0000, 0.8571],\n",
       "        [1.0000, 0.6667],\n",
       "        [1.0000, 0.3333],\n",
       "        [1.0000, 0.2857],\n",
       "        [1.0000, 0.2857],\n",
       "        [1.0000, 0.5714],\n",
       "        [1.0000, 0.4286],\n",
       "        [1.0000, 0.0476],\n",
       "        [1.0000, 0.3333],\n",
       "        [1.0000, 0.3810],\n",
       "        [1.0000, 0.3810],\n",
       "        [1.0000, 0.6190],\n",
       "        [1.0000, 0.0952],\n",
       "        [1.0000, 0.3810]])"
      ]
     },
     "execution_count": 10,
     "metadata": {},
     "output_type": "execute_result"
    }
   ],
   "source": [
    "# TODO\n",
    "bias = torch.ones(len(x_train), 1)\n",
    "x_train_bias = torch.cat((bias, x_train), dim = 1)\n",
    "x_train_bias"
   ]
  },
  {
   "cell_type": "code",
   "execution_count": 11,
   "metadata": {
    "ExecuteTime": {
     "end_time": "2018-02-04T16:02:06.278514Z",
     "start_time": "2018-02-04T16:02:06.268450Z"
    },
    "colab": {
     "base_uri": "https://localhost:8080/"
    },
    "id": "TdpisrMYhqjI",
    "outputId": "3b211001-6736-4682-e1c4-179808448546"
   },
   "outputs": [
    {
     "name": "stdout",
     "output_type": "stream",
     "text": [
      "x_train_bias é um tensor: OK!\n",
      "tamanho do x_train_bias: OK!\n",
      "primeira coluna é só de uns: OK!\n",
      "segunda coluna é igual a x_train: OK!\n"
     ]
    }
   ],
   "source": [
    "# Verificação do exercício - Execute para testar sua implementação\n",
    "\n",
    "print('x_train_bias é um tensor: {}'.format(print_assert(\n",
    "    isinstance(x_train_bias, torch.FloatTensor)\n",
    ")))\n",
    "\n",
    "print('tamanho do x_train_bias: {}'.format(print_assert(\n",
    "    x_train_bias.size() == torch.Size([50, 2])\n",
    ")))\n",
    "\n",
    "print('primeira coluna é só de uns: {}'.format(print_assert(\n",
    "    (x_train_bias[:, 0] - torch.ones(n_samples)).sum() == 0\n",
    ")))\n",
    "\n",
    "print('segunda coluna é igual a x_train: {}'.format(print_assert(\n",
    "    (x_train_bias[:, 1] - x_train.reshape(50)).sum() == 0\n",
    ")))\n"
   ]
  },
  {
   "cell_type": "markdown",
   "metadata": {
    "id": "Lg9Tq18khqjO"
   },
   "source": [
    "## Modelo da rede"
   ]
  },
  {
   "cell_type": "markdown",
   "metadata": {
    "id": "UR6aot_thqjO"
   },
   "source": [
    "### Definição da classe"
   ]
  },
  {
   "cell_type": "code",
   "execution_count": 12,
   "metadata": {
    "ExecuteTime": {
     "end_time": "2018-02-04T16:02:09.598222Z",
     "start_time": "2018-02-04T16:02:09.591078Z"
    },
    "id": "_H18CQOXhqjP"
   },
   "outputs": [],
   "source": [
    "class Net():\n",
    "    def __init__(self, n_in, n_out):\n",
    "        self.w = torch.Tensor(n_out, n_in)\n",
    "        self.w.uniform_(-0.1,0.1) #inicialização dos parâmetros\n",
    "\n",
    "    def forward(self, x_bias):\n",
    "        return x_bias.matmul(torch.t(self.w))\n"
   ]
  },
  {
   "cell_type": "markdown",
   "metadata": {
    "id": "vj9y-Ck5hqjS"
   },
   "source": [
    "### Instanciando a rede"
   ]
  },
  {
   "cell_type": "code",
   "execution_count": 13,
   "metadata": {
    "ExecuteTime": {
     "end_time": "2018-02-04T16:02:11.321744Z",
     "start_time": "2018-02-04T16:02:11.317928Z"
    },
    "id": "Hrmnfv3bhqjT"
   },
   "outputs": [],
   "source": [
    "model = Net(2,1)"
   ]
  },
  {
   "cell_type": "markdown",
   "metadata": {
    "id": "-Y-XBG1FhqjV"
   },
   "source": [
    "### Testando o predict da rede"
   ]
  },
  {
   "cell_type": "code",
   "execution_count": 14,
   "metadata": {
    "ExecuteTime": {
     "end_time": "2018-02-04T16:02:13.479757Z",
     "start_time": "2018-02-04T16:02:13.409349Z"
    },
    "colab": {
     "base_uri": "https://localhost:8080/"
    },
    "id": "yhStqIqShqjV",
    "outputId": "deaebd71-8969-46f5-f39e-fd0f64e83efe"
   },
   "outputs": [
    {
     "data": {
      "text/plain": [
       "tensor([[-0.1138],\n",
       "        [-0.1138],\n",
       "        [-0.1138],\n",
       "        [-0.1138]])"
      ]
     },
     "execution_count": 14,
     "metadata": {},
     "output_type": "execute_result"
    }
   ],
   "source": [
    "model.forward(torch.ones((4,2)))\n",
    "#model.forward(torch.randn(4,2))"
   ]
  },
  {
   "cell_type": "markdown",
   "metadata": {
    "id": "4vanbhwdhqjZ"
   },
   "source": [
    "## Treinamento"
   ]
  },
  {
   "cell_type": "markdown",
   "metadata": {
    "id": "mYrL0yOnhqjb"
   },
   "source": [
    "### Exercício 2 - Treinamento"
   ]
  },
  {
   "cell_type": "markdown",
   "metadata": {
    "id": "ZCOpAvN5hqjb"
   },
   "source": [
    "Refaça o código de treinamento da rede, mas agora utilizando somente Tensores do PyTorch. Faça o mesmo procedimento que o notebook [LinearRegressionIrisNumPy](LinearRegressionIrisNumPy.ipynb). Para consultar as operações disponíveis no PyTorch use a [documentação do PyTorch](http://pytorch.org/docs/master/torch.html).\n",
    "\n",
    "Funções que podem ser úteis:\n",
    "- torch.t\n",
    "- torch.mean\n",
    "- torch.matmul"
   ]
  },
  {
   "cell_type": "code",
   "execution_count": 19,
   "metadata": {
    "ExecuteTime": {
     "end_time": "2018-02-04T16:02:18.464526Z",
     "start_time": "2018-02-04T16:02:18.452463Z"
    },
    "colab": {
     "base_uri": "https://localhost:8080/"
    },
    "id": "NEqW54M7hqji",
    "outputId": "4c5f3972-3045-4e99-d488-a63077908f0c"
   },
   "outputs": [
    {
     "name": "stdout",
     "output_type": "stream",
     "text": [
      "Epoch[20/100], loss: 0.022786\n",
      "Epoch[40/100], loss: 0.021403\n",
      "Epoch[60/100], loss: 0.021203\n",
      "Epoch[80/100], loss: 0.021174\n",
      "Epoch[100/100], loss: 0.021170\n"
     ]
    }
   ],
   "source": [
    "num_epochs = 100\n",
    "learning_rate = 0.5\n",
    "for epoch in range(num_epochs):\n",
    "\n",
    "    # forward - predict\n",
    "    y_pred = model.forward(x_train_bias)\n",
    "    \n",
    "    #loss cálculo da função de perda\n",
    "    #loss = np.square(y_pred - y_train).mean()\n",
    "    # TODO\n",
    "    loss = torch.mean((y_pred - y_train)**2)\n",
    "    \n",
    "    # cálculo do gradiente pelas derivadas parciais\n",
    "    #w_grad = (2.0/n_samples) * (x_train_bias.T).dot(x_train_bias.dot(model.w.T) - y_train)\n",
    "    # TODO\n",
    "    w_grad =  (2.0/n_samples) * (x_train_bias.t()).matmul(x_train_bias.matmul(model.w.t()) - y_train)\n",
    "    \n",
    "    # gradiente descendente\n",
    "    #model.w = model.w - learning_rate * w_grad.T\n",
    "    # TODO\n",
    "    model.w = model.w - learning_rate * w_grad.t()\n",
    "    # verbose\n",
    "    if (epoch+1) % 20 == 0:\n",
    "        print('Epoch[{}/{}], loss: {:.6f}'\n",
    "              .format(epoch+1, num_epochs, loss))"
   ]
  },
  {
   "cell_type": "markdown",
   "metadata": {
    "id": "mYnhoBb8hqjp"
   },
   "source": [
    "## Avaliação"
   ]
  },
  {
   "cell_type": "markdown",
   "metadata": {
    "id": "yK5vrBd1hqjq"
   },
   "source": [
    "### Predict"
   ]
  },
  {
   "cell_type": "code",
   "execution_count": 20,
   "metadata": {
    "ExecuteTime": {
     "end_time": "2018-02-04T16:02:22.149118Z",
     "start_time": "2018-02-04T16:02:21.945738Z"
    },
    "colab": {
     "base_uri": "https://localhost:8080/",
     "height": 430
    },
    "id": "ieHyyJ25hqjr",
    "outputId": "bb291655-abfa-48db-c2c8-f2328897be73"
   },
   "outputs": [
    {
     "data": {
      "image/png": "[encoded data removed]",
      "text/plain": [
       "<Figure size 640x480 with 1 Axes>"
      ]
     },
     "metadata": {},
     "output_type": "display_data"
    }
   ],
   "source": [
    "y_pred = model.forward(x_train_bias)\n",
    "plt.plot(x_train.numpy(), y_train.numpy(), 'ro', label='Original data')\n",
    "plt.plot(x_train.numpy(), y_pred.numpy(), 'kx-', label='Fitting Line')\n",
    "plt.show()"
   ]
  },
  {
   "cell_type": "markdown",
   "metadata": {
    "id": "h8pcSIHBhqjx"
   },
   "source": [
    "### Parâmetro treinado"
   ]
  },
  {
   "cell_type": "code",
   "execution_count": 21,
   "metadata": {
    "ExecuteTime": {
     "end_time": "2018-02-04T16:02:25.042712Z",
     "start_time": "2018-02-04T16:02:25.035458Z"
    },
    "colab": {
     "base_uri": "https://localhost:8080/"
    },
    "id": "uXLo4RF8hqjy",
    "outputId": "92802790-c42b-4eb0-ef5c-29b2464162f0"
   },
   "outputs": [
    {
     "name": "stdout",
     "output_type": "stream",
     "text": [
      "tensor([[0.2630, 0.6832]])\n"
     ]
    }
   ],
   "source": [
    "print(model.w)"
   ]
  },
  {
   "cell_type": "code",
   "execution_count": 22,
   "metadata": {
    "ExecuteTime": {
     "end_time": "2018-02-04T16:08:31.867782Z",
     "start_time": "2018-02-04T16:08:31.863719Z"
    },
    "colab": {
     "base_uri": "https://localhost:8080/"
    },
    "id": "8To9Xp_7hqj1",
    "outputId": "134ba6e0-9ea2-455f-c9b4-008ab9677ff2"
   },
   "outputs": [
    {
     "name": "stdout",
     "output_type": "stream",
     "text": [
      "tensor([[0.2613, 0.6865]])\n"
     ]
    }
   ],
   "source": [
    "x_bias = x_train_bias\n",
    "y = y_train\n",
    "w_opt = (torch.inverse(x_bias.t().mm(x_bias)).mm(x_bias.t())).mm(y)\n",
    "print(w_opt.t())"
   ]
  }
 ],
 "metadata": {
  "colab": {
   "name": "2.3.1-LinearRegressionIris-Tensor.ipynb",
   "provenance": []
  },
  "kernelspec": {
   "display_name": "Python 3 (ipykernel)",
   "language": "python",
   "name": "python3"
  },
  "language_info": {
   "codemirror_mode": {
    "name": "ipython",
    "version": 3
   },
   "file_extension": ".py",
   "mimetype": "text/x-python",
   "name": "python",
   "nbconvert_exporter": "python",
   "pygments_lexer": "ipython3",
   "version": "3.8.18"
  },
  "vscode": {
   "interpreter": {
    "hash": "5fe3e6f0cdaab8afdc61c52912fda83f7c0a71baaea1897dd7498e2df01e69ec"
   }
  }
 },
 "nbformat": 4,
 "nbformat_minor": 4
}
